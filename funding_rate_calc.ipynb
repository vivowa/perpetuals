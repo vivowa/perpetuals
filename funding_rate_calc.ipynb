{
 "cells": [
  {
   "cell_type": "code",
   "execution_count": 1,
   "metadata": {},
   "outputs": [],
   "source": [
    "import pandas as pd\n",
    "import ast\n",
    "import numpy as np\n",
    "\n",
    "import warnings\n",
    "warnings.filterwarnings(\"ignore\")"
   ]
  },
  {
   "cell_type": "code",
   "execution_count": 2,
   "metadata": {},
   "outputs": [],
   "source": [
    "load = 'eth'\n",
    "df = pd.read_csv(f'data/orderbook_{load}_usdt.csv', parse_dates=['date'])\n",
    "df['asks'] =  df['asks'].map(lambda d : ast.literal_eval(d))\n",
    "df['bids'] =  df['bids'].map(lambda d : ast.literal_eval(d))"
   ]
  },
  {
   "cell_type": "code",
   "execution_count": 3,
   "metadata": {},
   "outputs": [],
   "source": [
    "backup = df"
   ]
  },
  {
   "cell_type": "code",
   "execution_count": 4,
   "metadata": {},
   "outputs": [
    {
     "data": {
      "text/plain": [
       "{'eth': (0.01, 0.005),\n",
       " 'btc': (0.008, 0.004),\n",
       " 'doge': (0.02, 0.01),\n",
       " 'bnb': (0.0133, 0.0065),\n",
       " 'ada': (0.0133, 0.0065)}"
      ]
     },
     "execution_count": 4,
     "metadata": {},
     "output_type": "execute_result"
    }
   ],
   "source": [
    "specs = { #initial margin , maintenance margin rate\n",
    "  'eth': (np.round(100000/100/100000,4), 0.005),\n",
    "  'btc': (np.round(50000/125/50000,4), 0.004),\n",
    "  'doge': (np.round(50000/50/50000,4), 0.01),\n",
    "  'bnb': (np.round(10000/75/10000,4), 0.0065),\n",
    "  'ada': (np.round(10000/75/10000,4), 0.0065),\n",
    "}\n",
    "specs"
   ]
  },
  {
   "cell_type": "code",
   "execution_count": 14,
   "metadata": {},
   "outputs": [],
   "source": [
    "interest_index = 0.0001\n",
    "imn = 200/specs['eth'][0] #(impact margin notional = 200 usdt / initial margin rate at maximum leverage level); 10% for doge\n",
    "\n",
    "df['impact_bid'] = 0.0\n",
    "df['impact_ask'] = 0.0"
   ]
  },
  {
   "cell_type": "code",
   "execution_count": null,
   "metadata": {},
   "outputs": [],
   "source": [
    "for i in range(0, len(df)):\n",
    "    df['impact_bid'][i], df_temp = calc_impact_bid(imn, i)\n",
    "    df['impact_ask'][i], df_temp = calc_impact_ask(imn, i)\n"
   ]
  },
  {
   "cell_type": "code",
   "execution_count": null,
   "metadata": {},
   "outputs": [],
   "source": [
    "df['premium_index'] = 0.0\n",
    "#mid price is technically not correct: https://www.binance.com/en/futures/funding-history/3\n",
    "df['premium_index'] = [(max(0, df['impact_bid'][i] - df['mid_price'][i]) - max(0, df['mid_price'][i] - df['impact_ask'][i])) / df['mid_price'][i] for i in df['premium_index']]"
   ]
  },
  {
   "cell_type": "code",
   "execution_count": null,
   "metadata": {},
   "outputs": [],
   "source": [
    "weights = np.arange(1,2*60*8+1,1) #weighted moving average for 8hours\n",
    "df['wma_premium_index'] = df['premium_index'].rolling(2*60*8).apply(lambda prices: np.dot(prices, weights)/weights.sum(), raw=True)\n",
    "df['wma_premium_index'] = df['wma_premium_index'].fillna(0)"
   ]
  },
  {
   "cell_type": "code",
   "execution_count": null,
   "metadata": {},
   "outputs": [],
   "source": [
    "df['funding_rate'] = df['wma_premium_index'] + interest_index\n",
    "\n",
    "#clamp funding rate\n",
    "df['funding_rate'][(df['wma_premium_index'] > -.0004) & (df['wma_premium_index'] < 0.0006)] = interest_index\n",
    "\n",
    "#clamp funding rate to min and max\n",
    "mmr = 0.005\n",
    "floor = -0.75 * mmr\n",
    "cap = 0.75 * mmr\n",
    "\n",
    "df['funding_rate'] = [max(floor, min(i, cap))  for i in df['funding_rate']]"
   ]
  },
  {
   "cell_type": "code",
   "execution_count": 6,
   "metadata": {},
   "outputs": [],
   "source": [
    "def calc_impact_bid(imn, i):\n",
    "    df_temp = pd.DataFrame.from_dict(df['bids'][i], dtype='float')\n",
    "    df_temp.sort_values(by='price', ascending=False, ignore_index=True, inplace=True)\n",
    "    df_temp['cum_base_quantity'] = df_temp['amount'].cumsum()\n",
    "    df_temp['quote_notional'] = df_temp['amount'] * df_temp['price']\n",
    "    df_temp['cum_quote_notional'] = df_temp['quote_notional'].cumsum()\n",
    "    \n",
    "    df_temp['cum_quote_notional'].iloc[-1] += imn #hacky way of ensuring, that the last level is sufficient to cover imn\n",
    "    \n",
    "    idx = df_temp[df_temp['cum_quote_notional'] > imn].index[0] #determine which level is sufficient for imn\n",
    "    if idx == 0:\n",
    "        impact_bid = df_temp['price'][idx]\n",
    "    else:\n",
    "        impact_bid = imn / ((imn - df_temp['cum_quote_notional'][idx-1])/df_temp['price'][idx] + df_temp['cum_base_quantity'][idx-1])\n",
    "    \n",
    "    return impact_bid, df_temp"
   ]
  },
  {
   "cell_type": "code",
   "execution_count": 7,
   "metadata": {},
   "outputs": [],
   "source": [
    "def calc_impact_ask(imn, i):\n",
    "    df_temp = pd.DataFrame.from_dict(df['asks'][i], dtype='float')\n",
    "    df_temp.sort_values(by='price', ascending=True, ignore_index=True, inplace=True)\n",
    "    df_temp['cum_base_quantity'] = df_temp['amount'].cumsum()\n",
    "    df_temp['quote_notional'] = df_temp['amount'] * df_temp['price']\n",
    "    df_temp['cum_quote_notional'] = df_temp['quote_notional'].cumsum()\n",
    "    \n",
    "    df_temp['cum_quote_notional'].iloc[-1] += imn\n",
    "\n",
    "    idx = df_temp[df_temp['cum_quote_notional'] > imn].index[0] #determine which level is sufficient for imn\n",
    "    if idx == 0:\n",
    "        impact_ask = df_temp['price'][idx]\n",
    "    else:\n",
    "        impact_ask = imn / ((imn - df_temp['cum_quote_notional'][idx-1])/df_temp['price'][idx] + df_temp['cum_base_quantity'][idx-1])\n",
    "    \n",
    "    return impact_ask, df_temp"
   ]
  }
 ],
 "metadata": {
  "kernelspec": {
   "display_name": "Python 3",
   "language": "python",
   "name": "python3"
  },
  "language_info": {
   "codemirror_mode": {
    "name": "ipython",
    "version": 3
   },
   "file_extension": ".py",
   "mimetype": "text/x-python",
   "name": "python",
   "nbconvert_exporter": "python",
   "pygments_lexer": "ipython3",
   "version": "3.8.3"
  }
 },
 "nbformat": 4,
 "nbformat_minor": 4
}
