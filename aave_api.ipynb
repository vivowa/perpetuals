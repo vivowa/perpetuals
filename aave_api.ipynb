{
 "cells": [
  {
   "cell_type": "markdown",
   "id": "32ab8a90",
   "metadata": {},
   "source": [
    "This script gathers price data from Aave API\n",
    "https://aave-api-v2.aave.com/"
   ]
  },
  {
   "cell_type": "code",
   "execution_count": null,
   "id": "cc1754d6",
   "metadata": {},
   "outputs": [],
   "source": [
    "pip install requests"
   ]
  },
  {
   "cell_type": "code",
   "execution_count": null,
   "id": "30a34abe",
   "metadata": {},
   "outputs": [],
   "source": [
    "import requests\n",
    "import pandas as pd\n",
    "import datetime\n",
    "from datetime import timedelta\n",
    "import time"
   ]
  },
  {
   "cell_type": "code",
   "execution_count": null,
   "id": "3cbc4791",
   "metadata": {},
   "outputs": [],
   "source": [
    "def isnan(string):\n",
    "    return string == 'NaN'"
   ]
  },
  {
   "cell_type": "markdown",
   "id": "f0884fe8",
   "metadata": {},
   "source": [
    "## V1"
   ]
  },
  {
   "cell_type": "code",
   "execution_count": null,
   "id": "639bfd85",
   "metadata": {},
   "outputs": [],
   "source": [
    "pool = '0x24a42fd28c976a61df5d00d0599c34c4f90748c8' #v1\n",
    "date = datetime.datetime(2020, 12, 31)\n",
    "date_string = date.strftime('%m-%d-%Y')\n",
    "lst = []"
   ]
  },
  {
   "cell_type": "code",
   "execution_count": null,
   "id": "e32ecc2e",
   "metadata": {},
   "outputs": [],
   "source": [
    "def process_aave_v1(raw):\n",
    "    for i in range(0,len(raw)):\n",
    "        temp = []\n",
    "        if raw[i]['symbol'] == 'USDC':\n",
    "            if isnan(raw[i]['referenceItem']['liquidityRate']): #if item is empty, pool does not exists\n",
    "                temp.append(['empty', 0, 0, 0, 0, 0, 0])\n",
    "            else:\n",
    "                epoch = int(raw[i]['referenceItem']['timestamp'])\n",
    "                time = datetime.datetime.utcfromtimestamp(epoch)\n",
    "                supply = float(raw[i]['referenceItem']['liquidityRate'])\n",
    "                borrow = float(raw[i]['referenceItem']['variableBorrowRate'])\n",
    "                supply_ma30 = float(raw[i]['avg30DaysLiquidityRate'])\n",
    "                borrow_ma30 = float(raw[i]['avg30DaysVariableBorrowRate'])\n",
    "                temp.append(['usdc', epoch, time, supply, borrow, supply_ma30, borrow_ma30])\n",
    "                \n",
    "        elif raw[i]['symbol'] == 'USDT':\n",
    "            if isnan(raw[i]['referenceItem']['liquidityRate']): #if item is empty, pool does not exists\n",
    "                temp.append(['empty', 0, 0, 0, 0, 0, 0])\n",
    "            else:\n",
    "                epoch = int(raw[i]['referenceItem']['timestamp'])\n",
    "                time = datetime.datetime.utcfromtimestamp(epoch)\n",
    "                supply = float(raw[i]['referenceItem']['liquidityRate'])\n",
    "                borrow = float(raw[i]['referenceItem']['variableBorrowRate'])\n",
    "                supply_ma30 = float(raw[i]['avg30DaysLiquidityRate'])\n",
    "                borrow_ma30 = float(raw[i]['avg30DaysVariableBorrowRate'])\n",
    "                temp.append(['usdt', epoch, time, supply, borrow, supply_ma30, borrow_ma30])\n",
    "                \n",
    "        elif raw[i]['symbol'] == 'DAI':\n",
    "            if isnan(raw[i]['referenceItem']['liquidityRate']): #if item is empty, pool does not exists\n",
    "                temp.append(['empty', 0, 0, 0, 0, 0, 0])\n",
    "            else:\n",
    "                epoch = int(raw[i]['referenceItem']['timestamp'])\n",
    "                time = datetime.datetime.utcfromtimestamp(epoch)\n",
    "                supply = float(raw[i]['referenceItem']['liquidityRate'])\n",
    "                borrow = float(raw[i]['referenceItem']['variableBorrowRate'])\n",
    "                supply_ma30 = float(raw[i]['avg30DaysLiquidityRate'])\n",
    "                borrow_ma30 = float(raw[i]['avg30DaysVariableBorrowRate'])\n",
    "                temp.append(['dai', epoch, time, supply, borrow, supply_ma30, borrow_ma30])\n",
    "                \n",
    "        elif raw[i]['symbol'] == 'ETH':\n",
    "            if isnan(raw[i]['referenceItem']['liquidityRate']): #if item is empty, pool does not exists\n",
    "                temp.append(['empty', 0, 0, 0, 0, 0, 0])\n",
    "            else:\n",
    "                epoch = int(raw[i]['referenceItem']['timestamp'])\n",
    "                time = datetime.datetime.utcfromtimestamp(epoch)\n",
    "                supply = float(raw[i]['referenceItem']['liquidityRate'])\n",
    "                borrow = float(raw[i]['referenceItem']['variableBorrowRate'])\n",
    "                supply_ma30 = float(raw[i]['avg30DaysLiquidityRate'])\n",
    "                borrow_ma30 = float(raw[i]['avg30DaysVariableBorrowRate'])\n",
    "                temp.append(['weth', epoch, time, supply, borrow, supply_ma30, borrow_ma30])\n",
    "                \n",
    "        elif raw[i]['symbol'] == 'WBTC':\n",
    "            if isnan(raw[i]['referenceItem']['liquidityRate']): #if item is empty, pool does not exists\n",
    "                temp.append(['empty', 0, 0, 0, 0, 0, 0])\n",
    "            else:\n",
    "                epoch = int(raw[i]['referenceItem']['timestamp'])\n",
    "                time = datetime.datetime.utcfromtimestamp(epoch)\n",
    "                supply = float(raw[i]['referenceItem']['liquidityRate'])\n",
    "                borrow = float(raw[i]['referenceItem']['variableBorrowRate'])\n",
    "                supply_ma30 = float(raw[i]['avg30DaysLiquidityRate'])\n",
    "                borrow_ma30 = float(raw[i]['avg30DaysVariableBorrowRate'])\n",
    "                temp.append(['wbtc', epoch, time, supply, borrow, supply_ma30, borrow_ma30])\n",
    "                \n",
    "        elif raw[i]['symbol'] == 'UNI':\n",
    "            if isnan(raw[i]['referenceItem']['liquidityRate']): #if item is empty, pool does not exists\n",
    "                temp.append(['empty', 0, 0, 0, 0, 0, 0])\n",
    "            else:\n",
    "                epoch = int(raw[i]['referenceItem']['timestamp'])\n",
    "                time = datetime.datetime.utcfromtimestamp(epoch)\n",
    "                supply = float(raw[i]['referenceItem']['liquidityRate'])\n",
    "                borrow = float(raw[i]['referenceItem']['variableBorrowRate'])\n",
    "                supply_ma30 = float(raw[i]['avg30DaysLiquidityRate'])\n",
    "                borrow_ma30 = float(raw[i]['avg30DaysVariableBorrowRate'])\n",
    "                temp.append(['uni', epoch, time, supply, borrow, supply_ma30, borrow_ma30])\n",
    "                \n",
    "        elif raw[i]['symbol'] == 'LINK':\n",
    "            if isnan(raw[i]['referenceItem']['liquidityRate']): #if item is empty, pool does not exists\n",
    "                temp.append(['empty', 0, 0, 0, 0, 0, 0])\n",
    "            else:\n",
    "                epoch = int(raw[i]['referenceItem']['timestamp'])\n",
    "                time = datetime.datetime.utcfromtimestamp(epoch)\n",
    "                supply = float(raw[i]['referenceItem']['liquidityRate'])\n",
    "                borrow = float(raw[i]['referenceItem']['variableBorrowRate'])\n",
    "                supply_ma30 = float(raw[i]['avg30DaysLiquidityRate'])\n",
    "                borrow_ma30 = float(raw[i]['avg30DaysVariableBorrowRate'])\n",
    "                temp.append(['link', epoch, time, supply, borrow, supply_ma30, borrow_ma30])\n",
    "                \n",
    "        else:\n",
    "            continue\n",
    "\n",
    "        lst.append(temp)\n",
    "\n",
    "            \n",
    "       "
   ]
  },
  {
   "cell_type": "code",
   "execution_count": null,
   "id": "675f3c07",
   "metadata": {},
   "outputs": [],
   "source": [
    "cont = True\n",
    "\n",
    "while cont:\n",
    "    query = f'https://aave-api-v2.aave.com/data/liquidity/v1?poolId={pool}&date={date_string}'\n",
    "    response = requests.get(query)\n",
    "    raw = response.json()\n",
    "    process_aave_v1(raw)\n",
    "    date = (date - timedelta(days=1))\n",
    "    date_string = date.strftime('%m-%d-%Y')\n",
    "    print(date_string)\n",
    "    time.sleep(3)\n"
   ]
  },
  {
   "cell_type": "code",
   "execution_count": null,
   "id": "cfc8abf7",
   "metadata": {},
   "outputs": [],
   "source": [
    "uni = [item for sublist in lst[0::7] for item in sublist]\n",
    "wbtc = [item for sublist in lst[1::7] for item in sublist]\n",
    "link = [item for sublist in lst[2::7] for item in sublist]\n",
    "dai = [item for sublist in lst[3::7] for item in sublist]\n",
    "usdc = [item for sublist in lst[4::7] for item in sublist]\n",
    "usdt = [item for sublist in lst[5::7] for item in sublist]\n",
    "weth = [item for sublist in lst[6::7] for item in sublist]\n",
    "\n",
    "final_lst = [uni, wbtc, link, dai, usdc, usdt, weth]"
   ]
  },
  {
   "cell_type": "code",
   "execution_count": null,
   "id": "7ca70c68",
   "metadata": {},
   "outputs": [],
   "source": [
    "currencies = ['uni', 'wbtc', 'link', 'dai', 'usdc', 'usdt', 'weth']\n",
    "for i in range(0, len(currencies)):\n",
    "    df_aave = pd.DataFrame(final_lst[i], columns=['asset', 'epoch', 'timestamp', 'supply', 'borrow', 'supply_ma30', 'borrow_ma30'])\n",
    "    df = df_aave.copy()\n",
    "    #df = df.sort_values(by='timestamp', ascending=True)\n",
    "    df = df.reset_index(drop=True)\n",
    "    #store in csv\n",
    "    df.to_csv(f'data/aave_{currencies[i]}_interest_v1.csv', index=False)\n"
   ]
  },
  {
   "cell_type": "markdown",
   "id": "1a054d4f",
   "metadata": {},
   "source": [
    "## V2"
   ]
  },
  {
   "cell_type": "code",
   "execution_count": null,
   "id": "12ab2cec",
   "metadata": {},
   "outputs": [],
   "source": [
    "pool = '0xb53c1a33016b2dc2ff3653530bff1848a515c8c5' #v2\n",
    "date = datetime.datetime(2022, 11, 13)\n",
    "date_string = date.strftime('%m-%d-%Y')"
   ]
  },
  {
   "cell_type": "code",
   "execution_count": null,
   "id": "0d6ace68",
   "metadata": {},
   "outputs": [],
   "source": [
    "lst = []"
   ]
  },
  {
   "cell_type": "code",
   "execution_count": null,
   "id": "0dde50d8",
   "metadata": {},
   "outputs": [],
   "source": [
    "def process_aave_v2(raw):\n",
    "    for i in range(0,len(raw)):\n",
    "        temp = []\n",
    "        if raw[i]['symbol'] == 'USDC':\n",
    "            epoch = int(raw[i]['referenceItem']['timestamp'])\n",
    "            time = datetime.datetime.utcfromtimestamp(epoch)\n",
    "            supply = float(raw[i]['referenceItem']['liquidityRate'])\n",
    "            borrow = float(raw[i]['referenceItem']['variableBorrowRate'])\n",
    "            supply_ma30 = float(raw[i]['avg30DaysLiquidityRate'])\n",
    "            borrow_ma30 = float(raw[i]['avg30DaysVariableBorrowRate'])\n",
    "            temp.append(['usdc', epoch, time, supply, borrow, supply_ma30, borrow_ma30])\n",
    "        elif raw[i]['symbol'] == 'USDT':\n",
    "            epoch = int(raw[i]['referenceItem']['timestamp'])\n",
    "            time = datetime.datetime.utcfromtimestamp(epoch)\n",
    "            supply = float(raw[i]['referenceItem']['liquidityRate'])\n",
    "            borrow = float(raw[i]['referenceItem']['variableBorrowRate'])\n",
    "            supply_ma30 = float(raw[i]['avg30DaysLiquidityRate'])\n",
    "            borrow_ma30 = float(raw[i]['avg30DaysVariableBorrowRate'])\n",
    "            temp.append(['usdt', epoch, time, supply, borrow, supply_ma30, borrow_ma30])\n",
    "        elif raw[i]['symbol'] == 'DAI':\n",
    "            epoch = int(raw[i]['referenceItem']['timestamp'])\n",
    "            time = datetime.datetime.utcfromtimestamp(epoch)\n",
    "            supply = float(raw[i]['referenceItem']['liquidityRate'])\n",
    "            borrow = float(raw[i]['referenceItem']['variableBorrowRate'])\n",
    "            supply_ma30 = float(raw[i]['avg30DaysLiquidityRate'])\n",
    "            borrow_ma30 = float(raw[i]['avg30DaysVariableBorrowRate'])\n",
    "            temp.append(['dai', epoch, time, supply, borrow, supply_ma30, borrow_ma30])\n",
    "        elif raw[i]['symbol'] == 'WETH':\n",
    "            epoch = int(raw[i]['referenceItem']['timestamp'])\n",
    "            time = datetime.datetime.utcfromtimestamp(epoch)\n",
    "            supply = float(raw[i]['referenceItem']['liquidityRate'])\n",
    "            borrow = float(raw[i]['referenceItem']['variableBorrowRate'])\n",
    "            supply_ma30 = float(raw[i]['avg30DaysLiquidityRate'])\n",
    "            borrow_ma30 = float(raw[i]['avg30DaysVariableBorrowRate'])\n",
    "            temp.append(['weth', epoch, time, supply, borrow, supply_ma30, borrow_ma30])\n",
    "        elif raw[i]['symbol'] == 'WBTC':\n",
    "            epoch = int(raw[i]['referenceItem']['timestamp'])\n",
    "            time = datetime.datetime.utcfromtimestamp(epoch)\n",
    "            supply = float(raw[i]['referenceItem']['liquidityRate'])\n",
    "            borrow = float(raw[i]['referenceItem']['variableBorrowRate'])\n",
    "            supply_ma30 = float(raw[i]['avg30DaysLiquidityRate'])\n",
    "            borrow_ma30 = float(raw[i]['avg30DaysVariableBorrowRate'])\n",
    "            temp.append(['wbtc', epoch, time, supply, borrow, supply_ma30, borrow_ma30])\n",
    "        elif raw[i]['symbol'] == 'UNI':\n",
    "            epoch = int(raw[i]['referenceItem']['timestamp'])\n",
    "            time = datetime.datetime.utcfromtimestamp(epoch)\n",
    "            supply = float(raw[i]['referenceItem']['liquidityRate'])\n",
    "            borrow = float(raw[i]['referenceItem']['variableBorrowRate'])\n",
    "            supply_ma30 = float(raw[i]['avg30DaysLiquidityRate'])\n",
    "            borrow_ma30 = float(raw[i]['avg30DaysVariableBorrowRate'])\n",
    "            temp.append(['uni', epoch, time, supply, borrow, supply_ma30, borrow_ma30])\n",
    "        elif raw[i]['symbol'] == 'LINK':\n",
    "            epoch = int(raw[i]['referenceItem']['timestamp'])\n",
    "            time = datetime.datetime.utcfromtimestamp(epoch)\n",
    "            supply = float(raw[i]['referenceItem']['liquidityRate'])\n",
    "            borrow = float(raw[i]['referenceItem']['variableBorrowRate'])\n",
    "            supply_ma30 = float(raw[i]['avg30DaysLiquidityRate'])\n",
    "            borrow_ma30 = float(raw[i]['avg30DaysVariableBorrowRate'])\n",
    "            temp.append(['link', epoch, time, supply, borrow, supply_ma30, borrow_ma30])\n",
    "        else:\n",
    "            continue\n",
    "            \n",
    "        lst.append(temp)"
   ]
  },
  {
   "cell_type": "code",
   "execution_count": null,
   "id": "3d04f2e7",
   "metadata": {},
   "outputs": [],
   "source": [
    "cont = True\n",
    "\n",
    "while cont:\n",
    "    query = f'https://aave-api-v2.aave.com/data/liquidity/v2?poolId={pool}&date={date_string}'\n",
    "    response = requests.get(query)\n",
    "    raw = response.json()\n",
    "    process_aave_v2(raw)\n",
    "    date = (date - timedelta(days=1))\n",
    "    date_string = date.strftime('%m-%d-%Y')\n",
    "    print(date_string)\n",
    "    time.sleep(3)\n"
   ]
  },
  {
   "cell_type": "code",
   "execution_count": null,
   "id": "1af783e3",
   "metadata": {},
   "outputs": [],
   "source": [
    "uni = [item for sublist in lst[0::7] for item in sublist]\n",
    "wbtc = [item for sublist in lst[1::7] for item in sublist]\n",
    "link = [item for sublist in lst[2::7] for item in sublist]\n",
    "dai = [item for sublist in lst[3::7] for item in sublist]\n",
    "usdc = [item for sublist in lst[4::7] for item in sublist]\n",
    "weth = [item for sublist in lst[5::7] for item in sublist]\n",
    "usdt = [item for sublist in lst[6::7] for item in sublist]\n",
    "\n",
    "final_lst = [uni, wbtc, link, dai, usdc, weth, usdt]"
   ]
  },
  {
   "cell_type": "code",
   "execution_count": null,
   "id": "411ffd6c",
   "metadata": {},
   "outputs": [],
   "source": [
    "currencies = ['uni', 'wbtc', 'link', 'dai', 'usdc', 'weth', 'usdt']\n",
    "for i in range(0, len(currencies)):\n",
    "    df_aave = pd.DataFrame(final_lst[i], columns=['asset', 'epoch', 'timestamp', 'supply', 'borrow', 'supply_ma30', 'borrow_ma30'])\n",
    "    df = df_aave.copy()\n",
    "    df = df.sort_values(by='timestamp', ascending=True)\n",
    "    df = df.reset_index(drop=True)\n",
    "    #store in csv\n",
    "    df.to_csv(f'data/aave_{currencies[i]}_interest_v2.csv', index=False)\n"
   ]
  }
 ],
 "metadata": {
  "kernelspec": {
   "display_name": "Python 3 (ipykernel)",
   "language": "python",
   "name": "python3"
  },
  "language_info": {
   "codemirror_mode": {
    "name": "ipython",
    "version": 3
   },
   "file_extension": ".py",
   "mimetype": "text/x-python",
   "name": "python",
   "nbconvert_exporter": "python",
   "pygments_lexer": "ipython3",
   "version": "3.8.3"
  }
 },
 "nbformat": 4,
 "nbformat_minor": 5
}
