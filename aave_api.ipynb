{
 "cells": [
  {
   "cell_type": "markdown",
   "metadata": {},
   "source": [
    "This script gathers price data from Aave API\n",
    "https://aave-api-v2.aave.com/"
   ]
  },
  {
   "cell_type": "code",
   "execution_count": null,
   "metadata": {},
   "outputs": [],
   "source": [
    "pip install requests"
   ]
  },
  {
   "cell_type": "code",
   "execution_count": 1,
   "metadata": {},
   "outputs": [],
   "source": [
    "import requests\n",
    "import pandas as pd\n",
    "import datetime\n",
    "from datetime import timedelta\n",
    "import time"
   ]
  },
  {
   "cell_type": "code",
   "execution_count": 73,
   "metadata": {},
   "outputs": [],
   "source": [
    "#pool = '0xb53c1a33016b2dc2ff3653530bff1848a515c8c5' v2\n",
    "pool = '0x24a42fd28c976a61df5d00d0599c34c4f90748c8' #v1\n",
    "date = datetime.datetime(2020, 12, 2)\n",
    "date_string = date.strftime('%m-%d-%Y')"
   ]
  },
  {
   "cell_type": "code",
   "execution_count": 65,
   "metadata": {},
   "outputs": [],
   "source": [
    "lst = []"
   ]
  },
  {
   "cell_type": "code",
   "execution_count": 93,
   "metadata": {},
   "outputs": [],
   "source": [
    "def process_aave_v1(raw):\n",
    "    for i in range(0,len(raw)):\n",
    "        temp = []\n",
    "        if raw[i]['symbol'] == 'USDC':\n",
    "            epoch = ''\n",
    "            time = date_string\n",
    "            lend = float(raw[i]['avg1DaysLiquidityRate'])\n",
    "            borrow = float(raw[i]['avg1DaysVariableBorrowRate'])\n",
    "            temp.append(['usdc', epoch, time, lend, borrow])\n",
    "        elif raw[i]['symbol'] == 'USDT':\n",
    "            epoch = ''\n",
    "            time = date_string\n",
    "            lend = float(raw[i]['avg1DaysLiquidityRate'])\n",
    "            borrow = float(raw[i]['avg1DaysVariableBorrowRate'])\n",
    "            temp.append(['usdt', epoch, time, lend, borrow])\n",
    "        elif raw[i]['symbol'] == 'DAI':\n",
    "            epoch = ''\n",
    "            time = date_string\n",
    "            lend = float(raw[i]['avg1DaysLiquidityRate'])\n",
    "            borrow = float(raw[i]['avg1DaysVariableBorrowRate'])\n",
    "            temp.append(['dai', epoch, time, lend, borrow])\n",
    "        elif raw[i]['symbol'] == 'ETH':\n",
    "            epoch = ''\n",
    "            time = date_string\n",
    "            lend = float(raw[i]['avg1DaysLiquidityRate'])\n",
    "            borrow = float(raw[i]['avg1DaysVariableBorrowRate'])\n",
    "            temp.append(['eth', epoch, time, lend, borrow])\n",
    "        elif raw[i]['symbol'] == 'WBTC':\n",
    "            epoch = ''\n",
    "            time = date_string\n",
    "            lend = float(raw[i]['avg1DaysLiquidityRate'])\n",
    "            borrow = float(raw[i]['avg1DaysVariableBorrowRate'])\n",
    "            temp.append(['wbtc', epoch, time, lend, borrow])\n",
    "            \n",
    "        else:\n",
    "            continue\n",
    "            \n",
    "        lst.append(temp)"
   ]
  },
  {
   "cell_type": "code",
   "execution_count": 52,
   "metadata": {},
   "outputs": [],
   "source": [
    "def process_aave(raw):\n",
    "    for i in range(0,len(raw)):\n",
    "        temp = []\n",
    "        if raw[i]['symbol'] == 'USDC':\n",
    "            epoch = int(raw[i]['referenceItem']['timestamp'])\n",
    "            time = datetime.datetime.utcfromtimestamp(epoch)\n",
    "            lend = float(raw[i]['referenceItem']['liquidityRate'])\n",
    "            borrow = float(raw[i]['referenceItem']['variableBorrowRate'])\n",
    "            temp.append(['usdc', epoch, time, lend, borrow])\n",
    "        elif raw[i]['symbol'] == 'USDT':\n",
    "            epoch = int(raw[i]['referenceItem']['timestamp'])\n",
    "            time = datetime.datetime.utcfromtimestamp(epoch)\n",
    "            lend = float(raw[i]['referenceItem']['liquidityRate'])\n",
    "            borrow = float(raw[i]['referenceItem']['variableBorrowRate'])\n",
    "            temp.append(['usdt', epoch, time, lend, borrow])\n",
    "        elif raw[i]['symbol'] == 'DAI':\n",
    "            epoch = int(raw[i]['referenceItem']['timestamp'])\n",
    "            time = datetime.datetime.utcfromtimestamp(epoch)\n",
    "            lend = float(raw[i]['referenceItem']['liquidityRate'])\n",
    "            borrow = float(raw[i]['referenceItem']['variableBorrowRate'])\n",
    "            dai = [epoch, time, lend, borrow]\n",
    "            temp.append(['dai', epoch, time, lend, borrow])\n",
    "        elif raw[i]['symbol'] == 'WETH':\n",
    "            epoch = int(raw[i]['referenceItem']['timestamp'])\n",
    "            time = datetime.datetime.utcfromtimestamp(epoch)\n",
    "            lend = float(raw[i]['referenceItem']['liquidityRate'])\n",
    "            borrow = float(raw[i]['referenceItem']['variableBorrowRate'])\n",
    "            dai = [epoch, time, lend, borrow]\n",
    "            temp.append(['weth', epoch, time, lend, borrow])\n",
    "        elif raw[i]['symbol'] == 'WBTC':\n",
    "            epoch = int(raw[i]['referenceItem']['timestamp'])\n",
    "            time = datetime.datetime.utcfromtimestamp(epoch)\n",
    "            lend = float(raw[i]['referenceItem']['liquidityRate'])\n",
    "            borrow = float(raw[i]['referenceItem']['variableBorrowRate'])\n",
    "            dai = [epoch, time, lend, borrow]\n",
    "            temp.append(['wbtc', epoch, time, lend, borrow])\n",
    "            \n",
    "        else:\n",
    "            continue\n",
    "            \n",
    "        lst.append(temp)"
   ]
  },
  {
   "cell_type": "code",
   "execution_count": 75,
   "metadata": {},
   "outputs": [
    {
     "name": "stdout",
     "output_type": "stream",
     "text": [
      "12-01-2020\n",
      "11-30-2020\n"
     ]
    },
    {
     "ename": "KeyboardInterrupt",
     "evalue": "",
     "output_type": "error",
     "traceback": [
      "\u001b[0;31m---------------------------------------------------------------------------\u001b[0m",
      "\u001b[0;31mKeyboardInterrupt\u001b[0m                         Traceback (most recent call last)",
      "\u001b[0;32m<ipython-input-75-c1d8fdc8f765>\u001b[0m in \u001b[0;36m<module>\u001b[0;34m\u001b[0m\n\u001b[1;32m      9\u001b[0m     \u001b[0mdate_string\u001b[0m \u001b[0;34m=\u001b[0m \u001b[0mdate\u001b[0m\u001b[0;34m.\u001b[0m\u001b[0mstrftime\u001b[0m\u001b[0;34m(\u001b[0m\u001b[0;34m'%m-%d-%Y'\u001b[0m\u001b[0;34m)\u001b[0m\u001b[0;34m\u001b[0m\u001b[0;34m\u001b[0m\u001b[0m\n\u001b[1;32m     10\u001b[0m     \u001b[0mprint\u001b[0m\u001b[0;34m(\u001b[0m\u001b[0mdate_string\u001b[0m\u001b[0;34m)\u001b[0m\u001b[0;34m\u001b[0m\u001b[0;34m\u001b[0m\u001b[0m\n\u001b[0;32m---> 11\u001b[0;31m     \u001b[0mtime\u001b[0m\u001b[0;34m.\u001b[0m\u001b[0msleep\u001b[0m\u001b[0;34m(\u001b[0m\u001b[0;36m3\u001b[0m\u001b[0;34m)\u001b[0m\u001b[0;34m\u001b[0m\u001b[0;34m\u001b[0m\u001b[0m\n\u001b[0m",
      "\u001b[0;31mKeyboardInterrupt\u001b[0m: "
     ]
    }
   ],
   "source": [
    "cont = True\n",
    "\n",
    "while cont:\n",
    "    query = f'https://aave-api-v2.aave.com/data/liquidity/v2?poolId={pool}&date={date_string}'\n",
    "    response = requests.get(query)\n",
    "    raw = response.json()\n",
    "    process_aave_v1(raw)\n",
    "    date = (date - timedelta(days=1))\n",
    "    date_string = date.strftime('%m-%d-%Y')\n",
    "    print(date_string)\n",
    "    time.sleep(3)\n"
   ]
  },
  {
   "cell_type": "code",
   "execution_count": 88,
   "metadata": {},
   "outputs": [],
   "source": [
    "x = [item for sublist in lst[2::5] for item in sublist]"
   ]
  },
  {
   "cell_type": "code",
   "execution_count": 89,
   "metadata": {},
   "outputs": [
    {
     "data": {
      "text/html": [
       "<div>\n",
       "<style scoped>\n",
       "    .dataframe tbody tr th:only-of-type {\n",
       "        vertical-align: middle;\n",
       "    }\n",
       "\n",
       "    .dataframe tbody tr th {\n",
       "        vertical-align: top;\n",
       "    }\n",
       "\n",
       "    .dataframe thead th {\n",
       "        text-align: right;\n",
       "    }\n",
       "</style>\n",
       "<table border=\"1\" class=\"dataframe\">\n",
       "  <thead>\n",
       "    <tr style=\"text-align: right;\">\n",
       "      <th></th>\n",
       "      <th>asset</th>\n",
       "      <th>epoch</th>\n",
       "      <th>timestamp</th>\n",
       "      <th>lend</th>\n",
       "      <th>borrow</th>\n",
       "    </tr>\n",
       "  </thead>\n",
       "  <tbody>\n",
       "    <tr>\n",
       "      <th>0</th>\n",
       "      <td>usdc</td>\n",
       "      <td></td>\n",
       "      <td>12-02-2020</td>\n",
       "      <td>0.015262</td>\n",
       "      <td>0.037109</td>\n",
       "    </tr>\n",
       "    <tr>\n",
       "      <th>1</th>\n",
       "      <td>usdc</td>\n",
       "      <td></td>\n",
       "      <td>12-01-2020</td>\n",
       "      <td>0.015262</td>\n",
       "      <td>0.037109</td>\n",
       "    </tr>\n",
       "    <tr>\n",
       "      <th>2</th>\n",
       "      <td>usdc</td>\n",
       "      <td></td>\n",
       "      <td>11-30-2020</td>\n",
       "      <td>0.015262</td>\n",
       "      <td>0.037109</td>\n",
       "    </tr>\n",
       "    <tr>\n",
       "      <th>3</th>\n",
       "      <td>usdc</td>\n",
       "      <td></td>\n",
       "      <td>11-29-2020</td>\n",
       "      <td>0.015262</td>\n",
       "      <td>0.037109</td>\n",
       "    </tr>\n",
       "    <tr>\n",
       "      <th>4</th>\n",
       "      <td>usdc</td>\n",
       "      <td></td>\n",
       "      <td>11-28-2020</td>\n",
       "      <td>0.015262</td>\n",
       "      <td>0.037109</td>\n",
       "    </tr>\n",
       "    <tr>\n",
       "      <th>...</th>\n",
       "      <td>...</td>\n",
       "      <td>...</td>\n",
       "      <td>...</td>\n",
       "      <td>...</td>\n",
       "      <td>...</td>\n",
       "    </tr>\n",
       "    <tr>\n",
       "      <th>334</th>\n",
       "      <td>usdc</td>\n",
       "      <td></td>\n",
       "      <td>01-03-2020</td>\n",
       "      <td>0.015262</td>\n",
       "      <td>0.037109</td>\n",
       "    </tr>\n",
       "    <tr>\n",
       "      <th>335</th>\n",
       "      <td>usdc</td>\n",
       "      <td></td>\n",
       "      <td>01-02-2020</td>\n",
       "      <td>0.015262</td>\n",
       "      <td>0.037109</td>\n",
       "    </tr>\n",
       "    <tr>\n",
       "      <th>336</th>\n",
       "      <td>usdc</td>\n",
       "      <td></td>\n",
       "      <td>01-01-2020</td>\n",
       "      <td>0.014217</td>\n",
       "      <td>0.035705</td>\n",
       "    </tr>\n",
       "    <tr>\n",
       "      <th>337</th>\n",
       "      <td>usdc</td>\n",
       "      <td></td>\n",
       "      <td>12-02-2020</td>\n",
       "      <td>0.015262</td>\n",
       "      <td>0.037109</td>\n",
       "    </tr>\n",
       "    <tr>\n",
       "      <th>338</th>\n",
       "      <td>usdc</td>\n",
       "      <td></td>\n",
       "      <td>12-01-2020</td>\n",
       "      <td>0.015262</td>\n",
       "      <td>0.037109</td>\n",
       "    </tr>\n",
       "  </tbody>\n",
       "</table>\n",
       "<p>339 rows × 5 columns</p>\n",
       "</div>"
      ],
      "text/plain": [
       "    asset epoch   timestamp      lend    borrow\n",
       "0    usdc        12-02-2020  0.015262  0.037109\n",
       "1    usdc        12-01-2020  0.015262  0.037109\n",
       "2    usdc        11-30-2020  0.015262  0.037109\n",
       "3    usdc        11-29-2020  0.015262  0.037109\n",
       "4    usdc        11-28-2020  0.015262  0.037109\n",
       "..    ...   ...         ...       ...       ...\n",
       "334  usdc        01-03-2020  0.015262  0.037109\n",
       "335  usdc        01-02-2020  0.015262  0.037109\n",
       "336  usdc        01-01-2020  0.014217  0.035705\n",
       "337  usdc        12-02-2020  0.015262  0.037109\n",
       "338  usdc        12-01-2020  0.015262  0.037109\n",
       "\n",
       "[339 rows x 5 columns]"
      ]
     },
     "execution_count": 89,
     "metadata": {},
     "output_type": "execute_result"
    }
   ],
   "source": [
    "df_aave = pd.DataFrame(x, columns=['asset', 'epoch', 'timestamp', 'lend', 'borrow'])\n",
    "df = df_aave.copy()\n",
    "df\n"
   ]
  },
  {
   "cell_type": "code",
   "execution_count": 44,
   "metadata": {},
   "outputs": [],
   "source": [
    "df = df.sort_values(by='timestamp', ascending=True)\n",
    "df = df.reset_index(drop=True)"
   ]
  },
  {
   "cell_type": "code",
   "execution_count": 45,
   "metadata": {},
   "outputs": [],
   "source": [
    "#store in csv\n",
    "df.to_csv(f'aave_usdt_interest.csv', index=False)"
   ]
  }
 ],
 "metadata": {
  "kernelspec": {
   "display_name": "Python 3",
   "language": "python",
   "name": "python3"
  },
  "language_info": {
   "codemirror_mode": {
    "name": "ipython",
    "version": 3
   },
   "file_extension": ".py",
   "mimetype": "text/x-python",
   "name": "python",
   "nbconvert_exporter": "python",
   "pygments_lexer": "ipython3",
   "version": "3.8.3"
  }
 },
 "nbformat": 4,
 "nbformat_minor": 5
}
