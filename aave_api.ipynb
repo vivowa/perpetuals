{
 "cells": [
  {
   "cell_type": "markdown",
   "metadata": {},
   "source": [
    "This script gathers price data from Aave API\n",
    "https://aave-api-v2.aave.com/"
   ]
  },
  {
   "cell_type": "code",
   "execution_count": 35,
   "metadata": {},
   "outputs": [
    {
     "name": "stdout",
     "output_type": "stream",
     "text": [
      "Requirement already satisfied: requests in /usr/local/anaconda3/lib/python3.8/site-packages (2.24.0)\n",
      "Requirement already satisfied: idna<3,>=2.5 in /usr/local/anaconda3/lib/python3.8/site-packages (from requests) (2.10)\n",
      "Requirement already satisfied: urllib3!=1.25.0,!=1.25.1,<1.26,>=1.21.1 in /usr/local/anaconda3/lib/python3.8/site-packages (from requests) (1.25.9)\n",
      "Requirement already satisfied: certifi>=2017.4.17 in /usr/local/anaconda3/lib/python3.8/site-packages (from requests) (2020.6.20)\n",
      "Requirement already satisfied: chardet<4,>=3.0.2 in /usr/local/anaconda3/lib/python3.8/site-packages (from requests) (3.0.4)\n",
      "Note: you may need to restart the kernel to use updated packages.\n"
     ]
    }
   ],
   "source": [
    "pip install requests"
   ]
  },
  {
   "cell_type": "code",
   "execution_count": 37,
   "metadata": {},
   "outputs": [],
   "source": [
    "import requests\n",
    "import pandas as pd\n",
    "import datetime\n",
    "from datetime import timedelta\n",
    "import time"
   ]
  },
  {
   "cell_type": "markdown",
   "metadata": {},
   "source": [
    "## V1"
   ]
  },
  {
   "cell_type": "code",
   "execution_count": 50,
   "metadata": {},
   "outputs": [],
   "source": [
    "pool = '0x24a42fd28c976a61df5d00d0599c34c4f90748c8' #v1\n",
    "date = datetime.datetime(2020, 12, 2)\n",
    "date_string = date.strftime('%m-%d-%Y')"
   ]
  },
  {
   "cell_type": "code",
   "execution_count": 49,
   "metadata": {},
   "outputs": [],
   "source": [
    "lst = []"
   ]
  },
  {
   "cell_type": "code",
   "execution_count": 51,
   "metadata": {},
   "outputs": [],
   "source": [
    "def process_aave_v1(raw):\n",
    "    for i in range(0,len(raw)):\n",
    "        temp = []\n",
    "        if raw[i]['symbol'] == 'USDC':\n",
    "            epoch = int(raw[i]['referenceItem']['timestamp'])\n",
    "            time = datetime.datetime.utcfromtimestamp(epoch)\n",
    "            supply = float(raw[i]['referenceItem']['liquidityRate'])\n",
    "            borrow = float(raw[i]['referenceItem']['variableBorrowRate'])\n",
    "            supply_ma30 = float(raw[i]['avg30DaysLiquidityRate'])\n",
    "            borrow_ma30 = float(raw[i]['avg30DaysVariableBorrowRate'])\n",
    "            temp.append(['usdc', epoch, time, supply, borrow, supply_ma30, borrow_ma30])\n",
    "        elif raw[i]['symbol'] == 'USDT':\n",
    "            epoch = int(raw[i]['referenceItem']['timestamp'])\n",
    "            time = datetime.datetime.utcfromtimestamp(epoch)\n",
    "            supply = float(raw[i]['referenceItem']['liquidityRate'])\n",
    "            borrow = float(raw[i]['referenceItem']['variableBorrowRate'])\n",
    "            supply_ma30 = float(raw[i]['avg30DaysLiquidityRate'])\n",
    "            borrow_ma30 = float(raw[i]['avg30DaysVariableBorrowRate'])\n",
    "            temp.append(['usdt', epoch, time, supply, borrow, supply_ma30, borrow_ma30])\n",
    "        elif raw[i]['symbol'] == 'DAI':\n",
    "            epoch = int(raw[i]['referenceItem']['timestamp'])\n",
    "            time = datetime.datetime.utcfromtimestamp(epoch)\n",
    "            supply = float(raw[i]['referenceItem']['liquidityRate'])\n",
    "            borrow = float(raw[i]['referenceItem']['variableBorrowRate'])\n",
    "            supply_ma30 = float(raw[i]['avg30DaysLiquidityRate'])\n",
    "            borrow_ma30 = float(raw[i]['avg30DaysVariableBorrowRate'])\n",
    "            temp.append(['dai', epoch, time, supply, borrow, supply_ma30, borrow_ma30])\n",
    "        elif raw[i]['symbol'] == 'ETH':\n",
    "            epoch = int(raw[i]['referenceItem']['timestamp'])\n",
    "            time = datetime.datetime.utcfromtimestamp(epoch)\n",
    "            supply = float(raw[i]['referenceItem']['liquidityRate'])\n",
    "            borrow = float(raw[i]['referenceItem']['variableBorrowRate'])\n",
    "            supply_ma30 = float(raw[i]['avg30DaysLiquidityRate'])\n",
    "            borrow_ma30 = float(raw[i]['avg30DaysVariableBorrowRate'])\n",
    "            temp.append(['weth', epoch, time, supply, borrow, supply_ma30, borrow_ma30])\n",
    "        elif raw[i]['symbol'] == 'WBTC':\n",
    "            epoch = int(raw[i]['referenceItem']['timestamp'])\n",
    "            time = datetime.datetime.utcfromtimestamp(epoch)\n",
    "            supply = float(raw[i]['referenceItem']['liquidityRate'])\n",
    "            borrow = float(raw[i]['referenceItem']['variableBorrowRate'])\n",
    "            supply_ma30 = float(raw[i]['avg30DaysLiquidityRate'])\n",
    "            borrow_ma30 = float(raw[i]['avg30DaysVariableBorrowRate'])\n",
    "            temp.append(['wbtc', epoch, time, supply, borrow, supply_ma30, borrow_ma30])\n",
    "        elif raw[i]['symbol'] == 'UNI':\n",
    "            epoch = int(raw[i]['referenceItem']['timestamp'])\n",
    "            time = datetime.datetime.utcfromtimestamp(epoch)\n",
    "            supply = float(raw[i]['referenceItem']['liquidityRate'])\n",
    "            borrow = float(raw[i]['referenceItem']['variableBorrowRate'])\n",
    "            supply_ma30 = float(raw[i]['avg30DaysLiquidityRate'])\n",
    "            borrow_ma30 = float(raw[i]['avg30DaysVariableBorrowRate'])\n",
    "            temp.append(['uni', epoch, time, supply, borrow, supply_ma30, borrow_ma30])\n",
    "        elif raw[i]['symbol'] == 'LINK':\n",
    "            epoch = int(raw[i]['referenceItem']['timestamp'])\n",
    "            time = datetime.datetime.utcfromtimestamp(epoch)\n",
    "            supply = float(raw[i]['referenceItem']['liquidityRate'])\n",
    "            borrow = float(raw[i]['referenceItem']['variableBorrowRate'])\n",
    "            supply_ma30 = float(raw[i]['avg30DaysLiquidityRate'])\n",
    "            borrow_ma30 = float(raw[i]['avg30DaysVariableBorrowRate'])\n",
    "            temp.append(['link', epoch, time, supply, borrow, supply_ma30, borrow_ma30])\n",
    "        else:\n",
    "            continue\n",
    "            \n",
    "        lst.append(temp)"
   ]
  },
  {
   "cell_type": "code",
   "execution_count": 52,
   "metadata": {},
   "outputs": [
    {
     "name": "stdout",
     "output_type": "stream",
     "text": [
      "12-01-2020\n",
      "11-30-2020\n"
     ]
    },
    {
     "ename": "KeyboardInterrupt",
     "evalue": "",
     "output_type": "error",
     "traceback": [
      "\u001b[0;31m---------------------------------------------------------------------------\u001b[0m",
      "\u001b[0;31mKeyboardInterrupt\u001b[0m                         Traceback (most recent call last)",
      "\u001b[0;32m<ipython-input-52-f40836253d4f>\u001b[0m in \u001b[0;36m<module>\u001b[0;34m\u001b[0m\n\u001b[1;32m      9\u001b[0m     \u001b[0mdate_string\u001b[0m \u001b[0;34m=\u001b[0m \u001b[0mdate\u001b[0m\u001b[0;34m.\u001b[0m\u001b[0mstrftime\u001b[0m\u001b[0;34m(\u001b[0m\u001b[0;34m'%m-%d-%Y'\u001b[0m\u001b[0;34m)\u001b[0m\u001b[0;34m\u001b[0m\u001b[0;34m\u001b[0m\u001b[0m\n\u001b[1;32m     10\u001b[0m     \u001b[0mprint\u001b[0m\u001b[0;34m(\u001b[0m\u001b[0mdate_string\u001b[0m\u001b[0;34m)\u001b[0m\u001b[0;34m\u001b[0m\u001b[0;34m\u001b[0m\u001b[0m\n\u001b[0;32m---> 11\u001b[0;31m     \u001b[0mtime\u001b[0m\u001b[0;34m.\u001b[0m\u001b[0msleep\u001b[0m\u001b[0;34m(\u001b[0m\u001b[0;36m3\u001b[0m\u001b[0;34m)\u001b[0m\u001b[0;34m\u001b[0m\u001b[0;34m\u001b[0m\u001b[0m\n\u001b[0m",
      "\u001b[0;31mKeyboardInterrupt\u001b[0m: "
     ]
    }
   ],
   "source": [
    "cont = True\n",
    "\n",
    "while cont:\n",
    "    query = f'https://aave-api-v2.aave.com/data/liquidity/v1?poolId={pool}&date={date_string}'\n",
    "    response = requests.get(query)\n",
    "    raw = response.json()\n",
    "    process_aave_v1(raw)\n",
    "    date = (date - timedelta(days=1))\n",
    "    date_string = date.strftime('%m-%d-%Y')\n",
    "    print(date_string)\n",
    "    time.sleep(3)\n"
   ]
  },
  {
   "cell_type": "code",
   "execution_count": 61,
   "metadata": {},
   "outputs": [],
   "source": [
    "uni = [item for sublist in lst[0::7] for item in sublist]\n",
    "wbtc = [item for sublist in lst[1::7] for item in sublist]\n",
    "link = [item for sublist in lst[2::7] for item in sublist]\n",
    "dai = [item for sublist in lst[3::7] for item in sublist]\n",
    "usdc = [item for sublist in lst[4::7] for item in sublist]\n",
    "usdt = [item for sublist in lst[5::7] for item in sublist]\n",
    "weth = [item for sublist in lst[6::7] for item in sublist]\n",
    "\n",
    "final_lst = [uni, wbtc, link, dai, usdc, usdt, weth]"
   ]
  },
  {
   "cell_type": "code",
   "execution_count": 73,
   "metadata": {},
   "outputs": [],
   "source": [
    "currencies = ['uni', 'wbtc', 'link', 'dai', 'usdc', 'usdt', 'weth']\n",
    "for i in range(0, len(currencies)):\n",
    "    df_aave = pd.DataFrame(final_lst[i], columns=['asset', 'epoch', 'timestamp', 'supply', 'borrow', 'supply_ma30', 'borrow_ma30'])\n",
    "    df = df_aave.copy()\n",
    "    df = df.sort_values(by='timestamp', ascending=True)\n",
    "    df = df.reset_index(drop=True)\n",
    "    #store in csv\n",
    "    df.to_csv(f'data/aave_{currencies[i]}_interest_v1.csv', index=False)\n"
   ]
  },
  {
   "cell_type": "markdown",
   "metadata": {},
   "source": [
    "## V2"
   ]
  },
  {
   "cell_type": "code",
   "execution_count": 75,
   "metadata": {},
   "outputs": [],
   "source": [
    "pool = '0xb53c1a33016b2dc2ff3653530bff1848a515c8c5' #v2\n",
    "date = datetime.datetime(2022, 8, 30)\n",
    "date_string = date.strftime('%m-%d-%Y')"
   ]
  },
  {
   "cell_type": "code",
   "execution_count": 82,
   "metadata": {},
   "outputs": [],
   "source": [
    "lst = []"
   ]
  },
  {
   "cell_type": "code",
   "execution_count": 83,
   "metadata": {},
   "outputs": [],
   "source": [
    "def process_aave_v2(raw):\n",
    "    for i in range(0,len(raw)):\n",
    "        temp = []\n",
    "        if raw[i]['symbol'] == 'USDC':\n",
    "            epoch = int(raw[i]['referenceItem']['timestamp'])\n",
    "            time = datetime.datetime.utcfromtimestamp(epoch)\n",
    "            supply = float(raw[i]['referenceItem']['liquidityRate'])\n",
    "            borrow = float(raw[i]['referenceItem']['variableBorrowRate'])\n",
    "            supply_ma30 = float(raw[i]['avg30DaysLiquidityRate'])\n",
    "            borrow_ma30 = float(raw[i]['avg30DaysVariableBorrowRate'])\n",
    "            temp.append(['usdc', epoch, time, supply, borrow, supply_ma30, borrow_ma30])\n",
    "        elif raw[i]['symbol'] == 'USDT':\n",
    "            epoch = int(raw[i]['referenceItem']['timestamp'])\n",
    "            time = datetime.datetime.utcfromtimestamp(epoch)\n",
    "            supply = float(raw[i]['referenceItem']['liquidityRate'])\n",
    "            borrow = float(raw[i]['referenceItem']['variableBorrowRate'])\n",
    "            supply_ma30 = float(raw[i]['avg30DaysLiquidityRate'])\n",
    "            borrow_ma30 = float(raw[i]['avg30DaysVariableBorrowRate'])\n",
    "            temp.append(['usdt', epoch, time, supply, borrow, supply_ma30, borrow_ma30])\n",
    "        elif raw[i]['symbol'] == 'DAI':\n",
    "            epoch = int(raw[i]['referenceItem']['timestamp'])\n",
    "            time = datetime.datetime.utcfromtimestamp(epoch)\n",
    "            supply = float(raw[i]['referenceItem']['liquidityRate'])\n",
    "            borrow = float(raw[i]['referenceItem']['variableBorrowRate'])\n",
    "            supply_ma30 = float(raw[i]['avg30DaysLiquidityRate'])\n",
    "            borrow_ma30 = float(raw[i]['avg30DaysVariableBorrowRate'])\n",
    "            temp.append(['dai', epoch, time, supply, borrow, supply_ma30, borrow_ma30])\n",
    "        elif raw[i]['symbol'] == 'WETH':\n",
    "            epoch = int(raw[i]['referenceItem']['timestamp'])\n",
    "            time = datetime.datetime.utcfromtimestamp(epoch)\n",
    "            supply = float(raw[i]['referenceItem']['liquidityRate'])\n",
    "            borrow = float(raw[i]['referenceItem']['variableBorrowRate'])\n",
    "            supply_ma30 = float(raw[i]['avg30DaysLiquidityRate'])\n",
    "            borrow_ma30 = float(raw[i]['avg30DaysVariableBorrowRate'])\n",
    "            temp.append(['weth', epoch, time, supply, borrow, supply_ma30, borrow_ma30])\n",
    "        elif raw[i]['symbol'] == 'WBTC':\n",
    "            epoch = int(raw[i]['referenceItem']['timestamp'])\n",
    "            time = datetime.datetime.utcfromtimestamp(epoch)\n",
    "            supply = float(raw[i]['referenceItem']['liquidityRate'])\n",
    "            borrow = float(raw[i]['referenceItem']['variableBorrowRate'])\n",
    "            supply_ma30 = float(raw[i]['avg30DaysLiquidityRate'])\n",
    "            borrow_ma30 = float(raw[i]['avg30DaysVariableBorrowRate'])\n",
    "            temp.append(['wbtc', epoch, time, supply, borrow, supply_ma30, borrow_ma30])\n",
    "        elif raw[i]['symbol'] == 'UNI':\n",
    "            epoch = int(raw[i]['referenceItem']['timestamp'])\n",
    "            time = datetime.datetime.utcfromtimestamp(epoch)\n",
    "            supply = float(raw[i]['referenceItem']['liquidityRate'])\n",
    "            borrow = float(raw[i]['referenceItem']['variableBorrowRate'])\n",
    "            supply_ma30 = float(raw[i]['avg30DaysLiquidityRate'])\n",
    "            borrow_ma30 = float(raw[i]['avg30DaysVariableBorrowRate'])\n",
    "            temp.append(['uni', epoch, time, supply, borrow, supply_ma30, borrow_ma30])\n",
    "        elif raw[i]['symbol'] == 'LINK':\n",
    "            epoch = int(raw[i]['referenceItem']['timestamp'])\n",
    "            time = datetime.datetime.utcfromtimestamp(epoch)\n",
    "            supply = float(raw[i]['referenceItem']['liquidityRate'])\n",
    "            borrow = float(raw[i]['referenceItem']['variableBorrowRate'])\n",
    "            supply_ma30 = float(raw[i]['avg30DaysLiquidityRate'])\n",
    "            borrow_ma30 = float(raw[i]['avg30DaysVariableBorrowRate'])\n",
    "            temp.append(['link', epoch, time, supply, borrow, supply_ma30, borrow_ma30])\n",
    "        else:\n",
    "            continue\n",
    "            \n",
    "        lst.append(temp)"
   ]
  },
  {
   "cell_type": "code",
   "execution_count": 84,
   "metadata": {},
   "outputs": [
    {
     "name": "stdout",
     "output_type": "stream",
     "text": [
      "08-25-2022\n",
      "08-24-2022\n"
     ]
    },
    {
     "ename": "KeyboardInterrupt",
     "evalue": "",
     "output_type": "error",
     "traceback": [
      "\u001b[0;31m---------------------------------------------------------------------------\u001b[0m",
      "\u001b[0;31mKeyboardInterrupt\u001b[0m                         Traceback (most recent call last)",
      "\u001b[0;32m<ipython-input-84-4d487bca3b3d>\u001b[0m in \u001b[0;36m<module>\u001b[0;34m\u001b[0m\n\u001b[1;32m      9\u001b[0m     \u001b[0mdate_string\u001b[0m \u001b[0;34m=\u001b[0m \u001b[0mdate\u001b[0m\u001b[0;34m.\u001b[0m\u001b[0mstrftime\u001b[0m\u001b[0;34m(\u001b[0m\u001b[0;34m'%m-%d-%Y'\u001b[0m\u001b[0;34m)\u001b[0m\u001b[0;34m\u001b[0m\u001b[0;34m\u001b[0m\u001b[0m\n\u001b[1;32m     10\u001b[0m     \u001b[0mprint\u001b[0m\u001b[0;34m(\u001b[0m\u001b[0mdate_string\u001b[0m\u001b[0;34m)\u001b[0m\u001b[0;34m\u001b[0m\u001b[0;34m\u001b[0m\u001b[0m\n\u001b[0;32m---> 11\u001b[0;31m     \u001b[0mtime\u001b[0m\u001b[0;34m.\u001b[0m\u001b[0msleep\u001b[0m\u001b[0;34m(\u001b[0m\u001b[0;36m3\u001b[0m\u001b[0;34m)\u001b[0m\u001b[0;34m\u001b[0m\u001b[0;34m\u001b[0m\u001b[0m\n\u001b[0m",
      "\u001b[0;31mKeyboardInterrupt\u001b[0m: "
     ]
    }
   ],
   "source": [
    "cont = True\n",
    "\n",
    "while cont:\n",
    "    query = f'https://aave-api-v2.aave.com/data/liquidity/v2?poolId={pool}&date={date_string}'\n",
    "    response = requests.get(query)\n",
    "    raw = response.json()\n",
    "    process_aave_v2(raw)\n",
    "    date = (date - timedelta(days=1))\n",
    "    date_string = date.strftime('%m-%d-%Y')\n",
    "    print(date_string)\n",
    "    time.sleep(3)\n"
   ]
  },
  {
   "cell_type": "code",
   "execution_count": 94,
   "metadata": {},
   "outputs": [],
   "source": [
    "uni = [item for sublist in lst[0::7] for item in sublist]\n",
    "wbtc = [item for sublist in lst[1::7] for item in sublist]\n",
    "link = [item for sublist in lst[2::7] for item in sublist]\n",
    "dai = [item for sublist in lst[3::7] for item in sublist]\n",
    "usdc = [item for sublist in lst[4::7] for item in sublist]\n",
    "weth = [item for sublist in lst[5::7] for item in sublist]\n",
    "usdt = [item for sublist in lst[6::7] for item in sublist]\n",
    "\n",
    "final_lst = [uni, wbtc, link, dai, usdc, weth, usdt]"
   ]
  },
  {
   "cell_type": "code",
   "execution_count": 95,
   "metadata": {},
   "outputs": [],
   "source": [
    "currencies = ['uni', 'wbtc', 'link', 'dai', 'usdc', 'weth', 'usdt']\n",
    "for i in range(0, len(currencies)):\n",
    "    df_aave = pd.DataFrame(final_lst[i], columns=['asset', 'epoch', 'timestamp', 'supply', 'borrow', 'supply_ma30', 'borrow_ma30'])\n",
    "    df = df_aave.copy()\n",
    "    df = df.sort_values(by='timestamp', ascending=True)\n",
    "    df = df.reset_index(drop=True)\n",
    "    #store in csv\n",
    "    df.to_csv(f'data/aave_{currencies[i]}_interest_v2.csv', index=False)\n"
   ]
  },
  {
   "cell_type": "markdown",
   "metadata": {},
   "source": [
    "## merging v2 and v1"
   ]
  },
  {
   "cell_type": "code",
   "execution_count": 96,
   "metadata": {},
   "outputs": [],
   "source": [
    "a = pd.read_csv('data/aave_usdc_interest_v1.csv') \n",
    "b = pd.read_csv('data/aave_usdc_interest_v2.csv') "
   ]
  },
  {
   "cell_type": "code",
   "execution_count": 97,
   "metadata": {},
   "outputs": [
    {
     "data": {
      "text/html": [
       "<div>\n",
       "<style scoped>\n",
       "    .dataframe tbody tr th:only-of-type {\n",
       "        vertical-align: middle;\n",
       "    }\n",
       "\n",
       "    .dataframe tbody tr th {\n",
       "        vertical-align: top;\n",
       "    }\n",
       "\n",
       "    .dataframe thead th {\n",
       "        text-align: right;\n",
       "    }\n",
       "</style>\n",
       "<table border=\"1\" class=\"dataframe\">\n",
       "  <thead>\n",
       "    <tr style=\"text-align: right;\">\n",
       "      <th></th>\n",
       "      <th>asset</th>\n",
       "      <th>epoch</th>\n",
       "      <th>timestamp</th>\n",
       "      <th>supply</th>\n",
       "      <th>borrow</th>\n",
       "      <th>supply_ma30</th>\n",
       "      <th>borrow_ma30</th>\n",
       "    </tr>\n",
       "  </thead>\n",
       "  <tbody>\n",
       "    <tr>\n",
       "      <th>0</th>\n",
       "      <td>usdc</td>\n",
       "      <td>1606866729</td>\n",
       "      <td>2020-12-01 23:52:09</td>\n",
       "      <td>0.092783</td>\n",
       "      <td>0.109639</td>\n",
       "      <td>0.054581</td>\n",
       "      <td>0.067491</td>\n",
       "    </tr>\n",
       "    <tr>\n",
       "      <th>1</th>\n",
       "      <td>usdc</td>\n",
       "      <td>1606952569</td>\n",
       "      <td>2020-12-02 23:42:49</td>\n",
       "      <td>0.071537</td>\n",
       "      <td>0.079391</td>\n",
       "      <td>0.056161</td>\n",
       "      <td>0.068647</td>\n",
       "    </tr>\n",
       "  </tbody>\n",
       "</table>\n",
       "</div>"
      ],
      "text/plain": [
       "  asset       epoch            timestamp    supply    borrow  supply_ma30  \\\n",
       "0  usdc  1606866729  2020-12-01 23:52:09  0.092783  0.109639     0.054581   \n",
       "1  usdc  1606952569  2020-12-02 23:42:49  0.071537  0.079391     0.056161   \n",
       "\n",
       "   borrow_ma30  \n",
       "0     0.067491  \n",
       "1     0.068647  "
      ]
     },
     "execution_count": 97,
     "metadata": {},
     "output_type": "execute_result"
    }
   ],
   "source": [
    "a"
   ]
  },
  {
   "cell_type": "code",
   "execution_count": 98,
   "metadata": {},
   "outputs": [
    {
     "data": {
      "text/html": [
       "<div>\n",
       "<style scoped>\n",
       "    .dataframe tbody tr th:only-of-type {\n",
       "        vertical-align: middle;\n",
       "    }\n",
       "\n",
       "    .dataframe tbody tr th {\n",
       "        vertical-align: top;\n",
       "    }\n",
       "\n",
       "    .dataframe thead th {\n",
       "        text-align: right;\n",
       "    }\n",
       "</style>\n",
       "<table border=\"1\" class=\"dataframe\">\n",
       "  <thead>\n",
       "    <tr style=\"text-align: right;\">\n",
       "      <th></th>\n",
       "      <th>asset</th>\n",
       "      <th>epoch</th>\n",
       "      <th>timestamp</th>\n",
       "      <th>supply</th>\n",
       "      <th>borrow</th>\n",
       "      <th>supply_ma30</th>\n",
       "      <th>borrow_ma30</th>\n",
       "    </tr>\n",
       "  </thead>\n",
       "  <tbody>\n",
       "    <tr>\n",
       "      <th>0</th>\n",
       "      <td>usdc</td>\n",
       "      <td>1661471464</td>\n",
       "      <td>2022-08-25 23:51:04</td>\n",
       "      <td>0.004535</td>\n",
       "      <td>0.014457</td>\n",
       "      <td>0.005671</td>\n",
       "      <td>0.01578</td>\n",
       "    </tr>\n",
       "    <tr>\n",
       "      <th>1</th>\n",
       "      <td>usdc</td>\n",
       "      <td>1661558163</td>\n",
       "      <td>2022-08-26 23:56:03</td>\n",
       "      <td>0.004584</td>\n",
       "      <td>0.014537</td>\n",
       "      <td>0.005647</td>\n",
       "      <td>0.01574</td>\n",
       "    </tr>\n",
       "  </tbody>\n",
       "</table>\n",
       "</div>"
      ],
      "text/plain": [
       "  asset       epoch            timestamp    supply    borrow  supply_ma30  \\\n",
       "0  usdc  1661471464  2022-08-25 23:51:04  0.004535  0.014457     0.005671   \n",
       "1  usdc  1661558163  2022-08-26 23:56:03  0.004584  0.014537     0.005647   \n",
       "\n",
       "   borrow_ma30  \n",
       "0      0.01578  \n",
       "1      0.01574  "
      ]
     },
     "execution_count": 98,
     "metadata": {},
     "output_type": "execute_result"
    }
   ],
   "source": [
    "b"
   ]
  }
 ],
 "metadata": {
  "kernelspec": {
   "display_name": "Python 3",
   "language": "python",
   "name": "python3"
  },
  "language_info": {
   "codemirror_mode": {
    "name": "ipython",
    "version": 3
   },
   "file_extension": ".py",
   "mimetype": "text/x-python",
   "name": "python",
   "nbconvert_exporter": "python",
   "pygments_lexer": "ipython3",
   "version": "3.8.3"
  }
 },
 "nbformat": 4,
 "nbformat_minor": 5
}
