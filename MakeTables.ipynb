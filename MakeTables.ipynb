{
 "cells": [
  {
   "cell_type": "code",
   "execution_count": 2,
   "id": "06abdf3a-314a-4ff7-8350-b730cec7d185",
   "metadata": {},
   "outputs": [
    {
     "name": "stdout",
     "output_type": "stream",
     "text": [
      " & & \\multicolumn{c}{4}{Unconditional} & \\multicolumn{c}{4}{Conditional}\\\\\n"
     ]
    }
   ],
   "source": [
    "import pandas as pd\n",
    "import numpy as np\n",
    "\n",
    "s = pd.read_pickle('tables/results_4.pkl')\n",
    "\n",
    "s2 = pd.read_pickle('tables/results_one_4.pkl')\n",
    "s = s.reset_index()\n",
    "s2 = s2.reset_index()\n",
    "\n",
    "s['2020_one'] = s2['2020']\n",
    "s['2021_one'] = s2['2021']\n",
    "s['2022_one'] = s2['2022']\n",
    "s['all_one'] = s2['all']\n",
    "\n",
    "s = s.set_index(['crypto', 'stat'])\n",
    "s.index.set_names([None, None], inplace = True)\n",
    "\n",
    "currency_lst = ['eth', 'btc', 'doge', 'bnb', 'ada']\n",
    "\n",
    "for currency in currency_lst:\n",
    "    s.loc[(f'{currency}', 'ann_return')] = s.loc[(f'{currency}', 'ann_return')]*100\n",
    "    s.loc[(f'{currency}', 'ann_std')] = s.loc[(f'{currency}', 'ann_std')]*100\n",
    "    s.loc[(f'{currency}', 'prop_active')] = s.loc[(f'{currency}', 'prop_active')]*100\n",
    "#     s.loc[(f'{currency}', 'ann_std')] = s.loc[(f'{currency}', 'ann_std')].apply(lambda x: 0.00 if x == '' else 100*float(x[1:-1]))\n",
    "\n",
    "# for col in ['ann_return', 'ann_std', 'ann_sharpe', 'ann_sharpe_ar1']:\n",
    "#     s.loc[('doge', col), '2020_one'] = 0\n",
    "#     s.loc[('doge', col), '2020'] = 0\n",
    "\n",
    "s_ = s.copy()\n",
    "\n",
    "s = s.applymap('{:,.2f}'.format)\n",
    "s_ = s_.applymap('{:,.0f}'.format)\n",
    "for currency in currency_lst:\n",
    "    s.loc[(f'{currency}', 'N')] = s_.loc[(f'{currency}', 'N')]\n",
    "\n",
    "for col in ['N', 'prop_active', 'ann_return', 'ann_std', 'ann_sharpe']:\n",
    "    s.loc[('doge', col), '2020_one'] = ''\n",
    "    s.loc[('doge', col), '2020'] = ''\n",
    "\n",
    "s.columns = ['2020', '2021', '2022', 'all', '2020 ', '2021 ', '2022 ', 'all ']\n",
    "s.to_latex('latex/table1.tex')\n",
    "\n",
    "print(' & & \\multicolumn{c}{4}{Unconditional} & \\multicolumn{c}{4}{Conditional}\\\\\\\\')"
   ]
  },
  {
   "cell_type": "code",
   "execution_count": 72,
   "id": "9c7747ae-b5d7-4a61-91b8-067e5e18b2c9",
   "metadata": {},
   "outputs": [],
   "source": [
    "import pandas as pd\n",
    "\n",
    "s = pd.read_pickle('tables/results_1.pkl')\n",
    "s = s[['all']]\n",
    "\n",
    "s.columns = ['no']\n",
    "\n",
    "col_lst = ['low', 'medium-low', 'medium-high']\n",
    "for i, col in enumerate(col_lst):\n",
    "    s[col] = pd.read_pickle(f'tables/results_{i+2}.pkl')['all']\n",
    "\n",
    "s = s.reset_index()\n",
    "s = s[s['stat']!='N']\n",
    "s = s.set_index(['crypto', 'stat'])\n",
    "s.index.set_names([None, None], inplace = True)\n",
    "\n",
    "currency_lst = ['eth', 'btc', 'doge', 'bnb', 'ada']\n",
    "\n",
    "for currency in currency_lst:\n",
    "    s.loc[(f'{currency}', 'ann_return')] = s.loc[(f'{currency}', 'ann_return')]*100\n",
    "    s.loc[(f'{currency}', 'ann_std')] = s.loc[(f'{currency}', 'ann_std')]*100\n",
    "    s.loc[(f'{currency}', 'prop_active')] = s.loc[(f'{currency}', 'prop_active')]*100\n",
    "#     s.loc[(f'{currency}', 'ann_std')] = s.loc[(f'{currency}', 'ann_std')].apply(lambda x: 0.00 if x == '' else 100*float(x[1:-1]))\n",
    "\n",
    "s = s.applymap('{:,.2f}'.format)\n",
    "s.to_latex('latex/table2.tex')"
   ]
  },
  {
   "cell_type": "code",
   "execution_count": 73,
   "id": "b1bf5e30-8963-40e7-a379-189af6ce506f",
   "metadata": {},
   "outputs": [],
   "source": [
    "import pandas as pd\n",
    "\n",
    "s = pd.read_pickle('tables/results_1_decompose.pkl')\n",
    "\n",
    "s = s.reset_index()\n",
    "s = s[(s['level_1'] != 'ann_std') & (s['level_1'] != 'ann_sharpe') & (s['level_1'] != 'ann_sharpe_ar1')]\n",
    "\n",
    "s = s.set_index(['level_0', 'level_1'])\n",
    "s.index.set_names([None, None], inplace = True)\n",
    "\n",
    "for currency in currency_lst:\n",
    "    s.loc[(f'{currency}', 'ann_return')] = s.loc[(f'{currency}', 'ann_return')]*100\n",
    "    s.loc[(f'{currency}', 'return_price')] = s.loc[(f'{currency}', 'return_price')]*100\n",
    "    s.loc[(f'{currency}', 'return_fund')] = s.loc[(f'{currency}', 'return_fund')]*100\n",
    "\n",
    "for col in ['ann_return', 'return_price', 'return_fund']:\n",
    "    s.loc[('doge', col), '2020'] = 0\n",
    "\n",
    "s = s.applymap('{:,.2f}'.format)\n",
    "\n",
    "for col in ['ann_return', 'return_price', 'return_fund']:\n",
    "    s.loc[('doge', col), '2020'] = ''\n",
    "\n",
    "s.to_latex('latex/table3.tex')"
   ]
  },
  {
   "cell_type": "code",
   "execution_count": null,
   "id": "ef26e1dd-03a6-43d2-9f80-2462f365d948",
   "metadata": {},
   "outputs": [],
   "source": []
  }
 ],
 "metadata": {
  "kernelspec": {
   "display_name": "Python 3",
   "language": "python",
   "name": "python3"
  },
  "language_info": {
   "codemirror_mode": {
    "name": "ipython",
    "version": 3
   },
   "file_extension": ".py",
   "mimetype": "text/x-python",
   "name": "python",
   "nbconvert_exporter": "python",
   "pygments_lexer": "ipython3",
   "version": "3.8.8"
  }
 },
 "nbformat": 4,
 "nbformat_minor": 5
}
