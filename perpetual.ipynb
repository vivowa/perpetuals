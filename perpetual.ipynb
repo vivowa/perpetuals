{
 "cells": [
  {
   "cell_type": "markdown",
   "id": "b0bd23cf",
   "metadata": {},
   "source": [
    "## This notebook investigates the popular 'perpetual swap' arbitrage on crytpo markets.\n",
    "\n",
    "1a) First we take a look at perpetual swaps and 'cash and carry' arbitrage opportunities. <br>\n",
    "1b) We derive the mathematical foundations. <br>\n",
    "2) Then we take a look on empiricial opportunities. <br>\n",
    "3) Finally we take a look at CPI arbitrage."
   ]
  },
  {
   "cell_type": "markdown",
   "id": "5e555432",
   "metadata": {},
   "source": [
    "### Data:\n",
    "- We gather data from binance.com, the largest perpetual swaps marketplace.\n",
    "- The data for the two most liquid markets (BTC/USDT and ETH/USDT) consists of 8h intervals from 11/2019-03/2022.\n",
    "- We gather both spot data as well as derivative data from the same exchange, thus arbitrageurs have minimal barriers to access opportunities.\n"
   ]
  },
  {
   "cell_type": "markdown",
   "id": "119145fa",
   "metadata": {},
   "source": [
    "### 1a) About perpetual swaps and 'cash and carry' arbitrage\n",
    "\n",
    "Perpetual swaps are very short-term futures.\n",
    "- Perpetual swaps are very short-term futures, whereas a 'funding rate' is used to keep the price between the derivative and index in balance.\n",
    "- The funding rate is higher (lower) the higher (lower) the derivative trades above (below) the underlying index.\n",
    "- Every 8h the long position pays the short position - vice versa if the funding rate is negative.\n",
    "- The perpetual swaps is the most popular financial instruments in crypto markets. Perpetual swaps account for USD 75-125 billion daily traded volume, whereas 40-60% is traded on Binance.com.\n",
    "\n",
    "Crypto markets have some interesting unique properties.\n",
    "- Due to the absence of prime broker and scattered trading venues, margins might be posted seperately for both sides of the trade. This makes trading capital intensive.\n",
    "- Trading in crypto markets occurs 24/7. Regular cash-settled future instruments (e.g. as offered by the Chicago CME) has low demand, due to the troubles of managing margin during non-banking hours."
   ]
  },
  {
   "cell_type": "markdown",
   "id": "fa553d08",
   "metadata": {},
   "source": [
    "Cash and carry trade for perpetual swaps\n",
    "- Using the cost of carry model from Fama and French (1988), we can write the the price of a future contract in t ($F_t$) as function of the spot price ($S_t$), the risk free rate ($r_t$), the costs of storage ($w_t$) and the cost of convenience ($y_t$):\n",
    "$F_t^T = S_t * T * (r_t^T+w_t^T-y_t^T)$\n",
    "\n",
    "- On crypto markets the funding rate $fr_t$ would be the combined compensation for the costs of capital, storage and convenience.\n",
    "- As we will see the funding rate already includes a fair parameter for the risk free rate.\n",
    "- The cost of storage could be interpreted as the default-risk premia to store collateral on a crypto exchange. However, leading crypto exchanges insure collateral with an in-house insurance fund, akin to deposit insurance in traditional banking.\n",
    "- Thus, one could argue that the funding rate is mostly driven by the cost of convenience."
   ]
  },
  {
   "cell_type": "markdown",
   "id": "69f87c15",
   "metadata": {},
   "source": [
    "It is possible to exploit the cost of convenience.\n",
    "- The funding rate consists of a premium component and a fixed interest rate component $fundingrate_t = premium_t + interest$.\n",
    "- The interest rate $i$ component is fixed to compensate for difference of capital costs between the base and the quoted asset.\n",
    "- The premium is the deviation between the spot and the derivative price $(F_t/S_t)-1$.\n",
    "- The funding rate can be defined as $fundingrate_t = fr_t = (F_t/S_t)-1 + i$\n",
    "- If the funding rate is positive (i.e. the price of the deriviative is larger than the price of the index), long positions have to pay short positions. This incentivizes more short positions and promotes the equilbrium between derivative and spot.\n",
    "- If the funding rate is negative (i.e. the price of the deriviative is below the price of the index), short positions have to pay long positions. This incentivizes more long positions and promotes equilbrium between derivative and spot.\n",
    "- There exists a strategy to capture the funding rate payments by going either long or short the perpetual swap.\n",
    "- The price risk can be hedged by taking the opposite direction on the spot market.\n",
    "- Holding both till expiry will yield the funding rate over time.\n",
    "- Note: we do not consider fees and margin requirements.\n",
    "\n",
    "![](perp_swap.png)"
   ]
  },
  {
   "cell_type": "markdown",
   "id": "32695463",
   "metadata": {},
   "source": [
    "###### "
   ]
  },
  {
   "cell_type": "markdown",
   "id": "0c9bcd3e",
   "metadata": {},
   "source": [
    "### 1b) Mathematical foundations\n",
    "We explore the limits and calculation of the perpetual swap arbitrage."
   ]
  },
  {
   "cell_type": "code",
   "execution_count": 1,
   "id": "7efd6ee4",
   "metadata": {},
   "outputs": [],
   "source": [
    "import numpy as np\n",
    "import matplotlib.pyplot as plt\n",
    "import pandas as pd\n",
    "import datetime\n",
    "\n",
    "pd.options.mode.chained_assignment = None"
   ]
  },
  {
   "cell_type": "code",
   "execution_count": null,
   "id": "4a013e19",
   "metadata": {},
   "outputs": [],
   "source": [
    "# Setting the index price to 100, and fluctuating the perpetual price. The interest rate is market typical and set to 0.01% each 8h.\n",
    "# This is equivalent to 9.5% per annum.\n",
    "index = 100\n",
    "interest = 0.0001\n",
    "perp = np.arange(98, 102, 0.01)"
   ]
  },
  {
   "cell_type": "code",
   "execution_count": null,
   "id": "4a0443b8",
   "metadata": {},
   "outputs": [],
   "source": [
    "#implementing arbitrage when the funding rate is positive\n",
    "def positive(perp, index, interest, fee):\n",
    "    premium = (perp/index)-1\n",
    "    fr_8h = (premium + interest)\n",
    "    rtrn = fr_8h/2 - fee\n",
    "    return rtrn*3*365\n",
    "\n",
    "#implementing arbitrage when the funding rate is negative\n",
    "def negative(perp, index, interest, fee):\n",
    "    premium = (perp/index)-1\n",
    "    fr_8h = premium + interest\n",
    "    rtrn = -1*(fr_8h)/2 - fee\n",
    "    return rtrn*3*365\n",
    "\n",
    "fig, axs = plt.subplots(1,2, figsize=(15, 6), sharey=True)\n",
    "\n",
    "fee = 0.0000\n",
    "axs[0].plot(perp/index-1, positive(perp, index, interest, fee), 'b-')\n",
    "axs[0].plot(perp/index-1, negative(perp, index, interest, fee), 'g-')\n",
    "\n",
    "fee = 0.0005\n",
    "axs[1].plot(perp/index-1, positive(perp, index, interest, fee), 'b--')\n",
    "axs[1].plot(perp/index-1, negative(perp, index, interest, fee), 'g--')\n",
    "axs[1].plot([-.0009,.0007], [0,0], 'r-')\n",
    "axs[1].plot([.0007,.015], [0,7.5], 'r-')\n",
    "axs[1].plot([-.015,-.0009], [7.5,0], 'r-')\n",
    "\n",
    "for i in range(0,2):\n",
    "    axs[i].set_ylim(-2.5,2.5)\n",
    "    axs[i].set_xlim(-0.01,0.01)\n",
    "\n",
    "    vals = axs[i].get_xticks()\n",
    "    axs[i].set_xticklabels(['{:,.1%}'.format(x) for x in vals])\n",
    "\n",
    "    vals = axs[i].get_yticks()\n",
    "    axs[i].set_yticklabels(['{:,.0%}'.format(x) for x in vals])\n",
    "\n",
    "    axs[i].set_xlabel('Deviation: Perp/Index')\n",
    "    axs[0].set_ylabel('Return of Strategy')\n",
    "    axs[0].legend(['Positive $fr_t$: short', 'Negative $fr_t$: long'], loc='upper right')\n",
    "    axs[1].legend(['Positive $fr_t$ (incl fees)', 'Negative $fr_t$ (incl fees)', 'Perfect strategy (incl fees)'], loc='upper right')\n",
    "    \n",
    "txt = 'The figure displays returns from arbitraging the funding rate. If the funding rate is positive (negative) one shorts (longs) the derivative and longs (shorts) the spot. \\n The return is large, when the deviation between the derivative and spot widens. However, the return is heavily dependent on fees and margin management. The right chart introduces (5bps) fees. \\n The red line depicts a perfect arbitrageur, i.e. perfect timing the funding rates and refraining from trades, if the returns are smaller then the costs.'\n",
    "fig.text(.5, -.1, txt, ha='center', fontstyle='italic')\n",
    "\n",
    "plt.show()"
   ]
  },
  {
   "cell_type": "markdown",
   "id": "21b8b516",
   "metadata": {},
   "source": [
    "### 2) Empirical arbitrage opportunities\n",
    "The funding rate has been significant in the past. We calculate the returns on the above mentioned strategy on the historical data. We calculate the return in two fashions: with and without compounding effects (reinvesting the profits into the strategy).\n",
    "We assume no fees, liquidation risk and efficient markets (shorting is possible)."
   ]
  },
  {
   "cell_type": "code",
   "execution_count": 2,
   "id": "84d64ccf",
   "metadata": {},
   "outputs": [],
   "source": [
    "#load relevant data\n",
    "funding_rate = pd.read_csv('rate_eth_usdt.csv', parse_dates=['timestamp'])\n",
    "funding_rate = funding_rate.rename(columns={'rate': 'funding_rate'})\n",
    "perp = pd.read_csv('perp_eth_usdt_1h.csv', parse_dates=['timestamp'])\n",
    "spot = pd.read_csv('spot_eth_usdt_1h.csv', parse_dates=['timestamp'])\n",
    "\n",
    "#rate_sample = rate[(rate['timestamp'] >= '2021-03-01') & (rate['timestamp'] <= '2022-03-01')].reset_index(drop=True)\n",
    "#perp_sample = perp[(perp['timestamp'] >= '2021-03-01') & (perp['timestamp'] <= '2022-03-01')].reset_index(drop=True)\n",
    "#spot_sample = spot[(spot['timestamp'] >= '2021-03-01') & (spot['timestamp'] <= '2022-03-01')].reset_index(drop=True)"
   ]
  },
  {
   "cell_type": "code",
   "execution_count": null,
   "id": "208c7a4e",
   "metadata": {},
   "outputs": [],
   "source": [
    "#take a look at the funding rate over time\n",
    "df = funding_rate[['epoch', 'timestamp', 'funding_rate']]\n",
    "df = pd.merge(df,\n",
    "                 spot[['epoch', 'close']],\n",
    "                 on='epoch', \n",
    "                 how='left')\n",
    "\n",
    "fig, ax = plt.subplots(figsize =(10,4))\n",
    "\n",
    "ax.plot(df['timestamp'], df['funding_rate'])\n",
    "secax = ax.twinx()\n",
    "secax.plot(df['timestamp'], df['close'], color = 'orange')\n",
    "secax.set_yscale('log')\n",
    "secax.set_yticks([])\n",
    "\n",
    "vals = ax.get_yticks()\n",
    "ax.set_yticklabels(['{:,.2%}'.format(x) for x in vals])\n",
    "\n",
    "ax.set_ylabel('8h funding rate')\n",
    "\n",
    "txt = 'The figure displays the 8h funding rate of the ETH/USDT perpetual swap on Binance from 11/2019 to 03/2022. The orange line denotes the log of the price over time. \\n The funding rate tends to decline over time.'\n",
    "fig.text(.5, -.1, txt, ha='center', fontstyle='italic')\n",
    "\n",
    "plt.show()"
   ]
  },
  {
   "cell_type": "code",
   "execution_count": null,
   "id": "378a614a",
   "metadata": {},
   "outputs": [],
   "source": [
    "#We now calculate common statistics, such as standard deviation, return, maximum drawdown.\n",
    "#create a dataframe for the calculations\n",
    "df = funding_rate.copy()\n",
    "df['pf'] = 0.0\n",
    "\n",
    "#calculate the return capturing the funding rate over time. Note: This calculation includes compounding effects.\n",
    "df['pf'][0] = 1 * (1+df['funding_rate'][0])\n",
    "for i in range(1,len(df)):\n",
    "    df['pf'][i] = df['pf'][i-1]*(1+df['funding_rate'][i])"
   ]
  },
  {
   "cell_type": "code",
   "execution_count": null,
   "id": "fe03679b",
   "metadata": {},
   "outputs": [],
   "source": [
    "#calculate and plot maxmimum drawdown\n",
    "window = 3*365 #one year\n",
    "\n",
    "roll_max = df['pf'].rolling(window, min_periods=1).max()\n",
    "\n",
    "daily_drawdown = df['pf']/roll_max - 1.0\n",
    "max_daily_drawdown = daily_drawdown.rolling(window, min_periods=1).min()\n",
    "\n",
    "fig, ax = plt.subplots(figsize =(10,4))\n",
    "\n",
    "ax.plot(df['timestamp'], daily_drawdown)\n",
    "ax.plot(df['timestamp'], max_daily_drawdown)\n",
    "\n",
    "vals = ax.get_yticks()\n",
    "ax.set_yticklabels(['{:,.2%}'.format(x) for x in vals])\n",
    "\n",
    "ax.legend(['daily drawdown', 'maximum drawdown'])\n",
    "ax.set_ylabel('8h funding rate')\n",
    "\n",
    "txt = f'The figure displays the possible drawdowns for perpetual swap arbitrage on Binance from 11/2019 to 03/2022. \\n The maximum drawdown at {np.round(daily_drawdown.min()*100,2)}% is suprisingly small.'\n",
    "fig.text(.5, -.1, txt, ha='center', fontstyle='italic')\n",
    "\n",
    "plt.show()"
   ]
  },
  {
   "cell_type": "code",
   "execution_count": null,
   "id": "739c7750",
   "metadata": {},
   "outputs": [],
   "source": [
    "#standard deviation\n",
    "std = df['funding_rate'].std()\n",
    "std_annualized = std * np.sqrt(3*365)\n",
    "\n",
    "#calculating the return without compounding effect.\n",
    "mreturn = df['funding_rate'].mean()\n",
    "mreturn_annualized = mreturn*3*365\n",
    "\n",
    "#calculating sharpe ratio, yet without substracting a risk free component\n",
    "sharpe = (mreturn_annualized/std_annualized)\n",
    "\n",
    "\n",
    "print('Capturing the funding rate since the start would have compounded in a gain of:', np.round((df['pf'].iloc[-1]-1)*100,2), '%')\n",
    "print(np.round(mreturn_annualized*100, 2), '% mean return (annualized)')\n",
    "print(np.round(std_annualized*100, 2), '% standard deviation (annualized)')\n",
    "print(np.round(sharpe,2), 'sharpe ratio (annualized)')\n",
    "print(np.round(daily_drawdown.min()*100,2), '% maximum drawdown')"
   ]
  },
  {
   "cell_type": "code",
   "execution_count": null,
   "id": "c3893cc5",
   "metadata": {},
   "outputs": [],
   "source": [
    "#splitting the statistics into years\n",
    "df_2019 = df[(df['timestamp'] < pd.to_datetime('2020-01-01'))].reset_index(drop=True)\n",
    "df_2020 = df[(df['timestamp'] >= pd.to_datetime('2020-01-01')) & (df['timestamp'] < pd.to_datetime('2021-01-01'))].reset_index(drop=True)\n",
    "df_2021 = df[(df['timestamp'] >= pd.to_datetime('2021-01-01')) & (df['timestamp'] < pd.to_datetime('2022-01-01'))].reset_index(drop=True)\n",
    "df_2022 = df[(df['timestamp'] >= pd.to_datetime('2022-01-01'))].reset_index(drop=True) \n",
    "\n",
    "results = pd.DataFrame(\n",
    "    {'mean return': [np.round(df_2019['funding_rate'].mean()*3*365,4), np.round(df_2020['funding_rate'].mean()*3*365,4), np.round(df_2021['funding_rate'].mean()*3*365,4), np.round(df_2022['funding_rate'].mean()*3*365,4)],\n",
    "    'standard deviation': [np.round(df_2019['funding_rate'].std()*np.sqrt(3*365),4), np.round(df_2020['funding_rate'].std()*np.sqrt(3*365),4), np.round(df_2021['funding_rate'].std()*np.sqrt(3*365),4), np.round(df_2022['funding_rate'].std()*np.sqrt(3*365),4)]},\n",
    "                  index = ['2019', '2020', '2021', '2022'])\n",
    "results['sharpe ratio'] = [np.round(results['mean return'].iloc[0]/results['standard deviation'].iloc[0],2), np.round(results['mean return'].iloc[1]/results['standard deviation'].iloc[1],2), np.round(results['mean return'].iloc[2]/results['standard deviation'].iloc[2],2), np.round(results['mean return'].iloc[3]/results['standard deviation'].iloc[3],2)]\n",
    "results"
   ]
  },
  {
   "cell_type": "code",
   "execution_count": 3,
   "id": "178f6db9",
   "metadata": {},
   "outputs": [],
   "source": [
    "#Funding rate consists of the premium and interest. We assume the premium is the significant variable.\n",
    "#The premium is the deviation between perp and spot. We want to check how large the deviation between perp and spot has been historically.\n",
    "\n",
    "#create a panel\n",
    "panel = funding_rate[['epoch', 'timestamp', 'funding_rate']]\n",
    "\n",
    "panel = pd.merge(panel,\n",
    "                 perp[['epoch', 'open', 'volume']],\n",
    "                 on='epoch', \n",
    "                 how='left')\n",
    "panel = panel.rename(columns={'open': 'perp', 'volume': 'vol_perp'})\n",
    "\n",
    "panel = pd.merge(panel,\n",
    "                 spot[['epoch', 'open', 'volume']],\n",
    "                 on='epoch', \n",
    "                 how='left')\n",
    "panel = panel.rename(columns={'open': 'spot', 'volume': 'vol_spot'})"
   ]
  },
  {
   "cell_type": "code",
   "execution_count": 10,
   "id": "afc84428",
   "metadata": {},
   "outputs": [
    {
     "data": {
      "text/html": [
       "<div>\n",
       "<style scoped>\n",
       "    .dataframe tbody tr th:only-of-type {\n",
       "        vertical-align: middle;\n",
       "    }\n",
       "\n",
       "    .dataframe tbody tr th {\n",
       "        vertical-align: top;\n",
       "    }\n",
       "\n",
       "    .dataframe thead th {\n",
       "        text-align: right;\n",
       "    }\n",
       "</style>\n",
       "<table border=\"1\" class=\"dataframe\">\n",
       "  <thead>\n",
       "    <tr style=\"text-align: right;\">\n",
       "      <th></th>\n",
       "      <th>epoch</th>\n",
       "      <th>timestamp</th>\n",
       "      <th>funding_rate</th>\n",
       "      <th>perp</th>\n",
       "      <th>vol_perp</th>\n",
       "      <th>spot</th>\n",
       "      <th>vol_spot</th>\n",
       "    </tr>\n",
       "  </thead>\n",
       "  <tbody>\n",
       "    <tr>\n",
       "      <th>0</th>\n",
       "      <td>1574841600</td>\n",
       "      <td>2019-11-27 09:00:00</td>\n",
       "      <td>0.000100</td>\n",
       "      <td>125.03</td>\n",
       "      <td>0.080</td>\n",
       "      <td>146.28</td>\n",
       "      <td>11989.25169</td>\n",
       "    </tr>\n",
       "    <tr>\n",
       "      <th>1</th>\n",
       "      <td>1574870400</td>\n",
       "      <td>2019-11-27 17:00:00</td>\n",
       "      <td>0.000100</td>\n",
       "      <td>150.72</td>\n",
       "      <td>9478.530</td>\n",
       "      <td>150.67</td>\n",
       "      <td>41449.66642</td>\n",
       "    </tr>\n",
       "    <tr>\n",
       "      <th>2</th>\n",
       "      <td>1574899200</td>\n",
       "      <td>2019-11-28 01:00:00</td>\n",
       "      <td>0.000100</td>\n",
       "      <td>154.29</td>\n",
       "      <td>36.520</td>\n",
       "      <td>152.61</td>\n",
       "      <td>8553.57197</td>\n",
       "    </tr>\n",
       "    <tr>\n",
       "      <th>3</th>\n",
       "      <td>1574928000</td>\n",
       "      <td>2019-11-28 09:00:00</td>\n",
       "      <td>0.000014</td>\n",
       "      <td>152.04</td>\n",
       "      <td>6100.715</td>\n",
       "      <td>152.23</td>\n",
       "      <td>20137.27914</td>\n",
       "    </tr>\n",
       "    <tr>\n",
       "      <th>4</th>\n",
       "      <td>1574956800</td>\n",
       "      <td>2019-11-28 17:00:00</td>\n",
       "      <td>-0.000106</td>\n",
       "      <td>153.78</td>\n",
       "      <td>5282.140</td>\n",
       "      <td>153.97</td>\n",
       "      <td>16824.95914</td>\n",
       "    </tr>\n",
       "    <tr>\n",
       "      <th>...</th>\n",
       "      <td>...</td>\n",
       "      <td>...</td>\n",
       "      <td>...</td>\n",
       "      <td>...</td>\n",
       "      <td>...</td>\n",
       "      <td>...</td>\n",
       "      <td>...</td>\n",
       "    </tr>\n",
       "    <tr>\n",
       "      <th>2531</th>\n",
       "      <td>1647734400</td>\n",
       "      <td>2022-03-20 01:00:00</td>\n",
       "      <td>0.000100</td>\n",
       "      <td>2949.90</td>\n",
       "      <td>53384.380</td>\n",
       "      <td>2950.85</td>\n",
       "      <td>12114.42900</td>\n",
       "    </tr>\n",
       "    <tr>\n",
       "      <th>2532</th>\n",
       "      <td>1647763200</td>\n",
       "      <td>2022-03-20 09:00:00</td>\n",
       "      <td>0.000100</td>\n",
       "      <td>2925.00</td>\n",
       "      <td>22562.482</td>\n",
       "      <td>2925.48</td>\n",
       "      <td>6930.47290</td>\n",
       "    </tr>\n",
       "    <tr>\n",
       "      <th>2533</th>\n",
       "      <td>1647792000</td>\n",
       "      <td>2022-03-20 17:00:00</td>\n",
       "      <td>0.000100</td>\n",
       "      <td>2854.42</td>\n",
       "      <td>100055.944</td>\n",
       "      <td>2853.94</td>\n",
       "      <td>24922.57030</td>\n",
       "    </tr>\n",
       "    <tr>\n",
       "      <th>2534</th>\n",
       "      <td>1647820800</td>\n",
       "      <td>2022-03-21 01:00:00</td>\n",
       "      <td>0.000100</td>\n",
       "      <td>2860.53</td>\n",
       "      <td>42044.077</td>\n",
       "      <td>2861.39</td>\n",
       "      <td>11464.49110</td>\n",
       "    </tr>\n",
       "    <tr>\n",
       "      <th>2535</th>\n",
       "      <td>1647849600</td>\n",
       "      <td>2022-03-21 09:00:00</td>\n",
       "      <td>0.000100</td>\n",
       "      <td>2888.93</td>\n",
       "      <td>60665.270</td>\n",
       "      <td>2889.38</td>\n",
       "      <td>16568.46390</td>\n",
       "    </tr>\n",
       "  </tbody>\n",
       "</table>\n",
       "<p>2536 rows × 7 columns</p>\n",
       "</div>"
      ],
      "text/plain": [
       "           epoch           timestamp  funding_rate     perp    vol_perp  \\\n",
       "0     1574841600 2019-11-27 09:00:00      0.000100   125.03       0.080   \n",
       "1     1574870400 2019-11-27 17:00:00      0.000100   150.72    9478.530   \n",
       "2     1574899200 2019-11-28 01:00:00      0.000100   154.29      36.520   \n",
       "3     1574928000 2019-11-28 09:00:00      0.000014   152.04    6100.715   \n",
       "4     1574956800 2019-11-28 17:00:00     -0.000106   153.78    5282.140   \n",
       "...          ...                 ...           ...      ...         ...   \n",
       "2531  1647734400 2022-03-20 01:00:00      0.000100  2949.90   53384.380   \n",
       "2532  1647763200 2022-03-20 09:00:00      0.000100  2925.00   22562.482   \n",
       "2533  1647792000 2022-03-20 17:00:00      0.000100  2854.42  100055.944   \n",
       "2534  1647820800 2022-03-21 01:00:00      0.000100  2860.53   42044.077   \n",
       "2535  1647849600 2022-03-21 09:00:00      0.000100  2888.93   60665.270   \n",
       "\n",
       "         spot     vol_spot  \n",
       "0      146.28  11989.25169  \n",
       "1      150.67  41449.66642  \n",
       "2      152.61   8553.57197  \n",
       "3      152.23  20137.27914  \n",
       "4      153.97  16824.95914  \n",
       "...       ...          ...  \n",
       "2531  2950.85  12114.42900  \n",
       "2532  2925.48   6930.47290  \n",
       "2533  2853.94  24922.57030  \n",
       "2534  2861.39  11464.49110  \n",
       "2535  2889.38  16568.46390  \n",
       "\n",
       "[2536 rows x 7 columns]"
      ]
     },
     "execution_count": 10,
     "metadata": {},
     "output_type": "execute_result"
    }
   ],
   "source": [
    "panel"
   ]
  },
  {
   "cell_type": "code",
   "execution_count": 155,
   "id": "47f3ef11",
   "metadata": {},
   "outputs": [],
   "source": [
    "#assumption: 10mn volume; using BNB; maker; usdt; only short derivative; no slippage\n",
    "#trading strategy: if positive funding rate, short derivative and long spot; otherwise no trade\n",
    "\n",
    "#funding rate is calculated every 5sec and aggreated as simple 8h moving average (12*60*8 datapoints).\n",
    "#funding settlements are every 8 hours\n",
    "#\"Traders are only liable for funding payments in either direction if they have open positions at the pre-specified funding times\"\n",
    "#https://www.binance.com/en/support/faq/360033525031\n",
    "\n",
    "fee_derivative = 0.00018\n",
    "fee_spot = 0.0006\n",
    "\n",
    "notional = 1000000\n",
    "leverage = 1\n",
    "margin = notional/2/leverage"
   ]
  },
  {
   "cell_type": "code",
   "execution_count": 156,
   "id": "1e3f9cae",
   "metadata": {},
   "outputs": [],
   "source": [
    "def open_position():\n",
    "    position_spot = share_spot*notional/(ethusdt_spot *(1+fee_spot))\n",
    "    position_der = share_der*notional/(ethusdt_perp *(1+fee_derivative))\n",
    "    fee = (share_spot*notional*fee_spot+share_der*notional*fee_derivative)*-1\n",
    "    return position_spot, position_der, fee\n",
    "\n",
    "def close_position():\n",
    "    position_spot = 0\n",
    "    position_der = 0\n",
    "    fee = (share_spot*notional*fee_spot+share_der*notional*fee_derivative)*-1\n",
    "    return position_spot, position_der, fee\n",
    "\n",
    "\n",
    "share_spot = (1-fee_derivative)/(2-fee_spot-fee_derivative)\n",
    "share_der = 1-share_spot"
   ]
  },
  {
   "cell_type": "code",
   "execution_count": 159,
   "id": "80f171cc",
   "metadata": {},
   "outputs": [],
   "source": [
    "#strating variables\n",
    "lst=[]\n",
    "position_open = 0\n",
    "position_spot = 0.0\n",
    "position_der = 0.0\n",
    "payment = 0.0\n",
    "\n",
    "for i in range(0, len(panel)):\n",
    "    ethusdt_spot = panel['spot'][i]\n",
    "    ethusdt_perp = panel['perp'][i]\n",
    "    funding_rate = panel['funding_rate'][i]\n",
    "    fee = 0.0\n",
    "    \n",
    "    #trading strategies\n",
    "    if (funding_rate > 0) & (position_open == 0):\n",
    "        position_open = 1\n",
    "        position_spot, position_der, fee = open_position()\n",
    "        payment = share_der*notional*funding_rate\n",
    "    elif (funding_rate > 0) & (position_open == 1):\n",
    "        payment = share_der*notional*funding_rate\n",
    "    elif (funding_rate <= 0) & (position_open == 0):\n",
    "        payment = 0.0\n",
    "    elif (funding_rate <= 0) & (position_open == 1):\n",
    "        position_open = 0\n",
    "        position_spot, position_der, fee = close_position()\n",
    "        payment = 0.0\n",
    "        \n",
    "    lst.append([panel['epoch'][i], panel['timestamp'][i], position_open, position_spot, position_der, fee, funding_rate, payment])\n",
    "    "
   ]
  },
  {
   "cell_type": "code",
   "execution_count": 214,
   "id": "461f159a",
   "metadata": {},
   "outputs": [
    {
     "name": "stdout",
     "output_type": "stream",
     "text": [
      "The simple strategies pays $147832 (annualized) with $-30146 in fees. The annual PnL is $117686, i.e. 11.77%.\n"
     ]
    }
   ],
   "source": [
    "df = pd.DataFrame(lst, columns=['epoch', 'timestamp', 'position_open', 'position_spot', 'position_der', 'fee', 'funding_rate', 'payment'])\n",
    "\n",
    "df['PnL'] = df['payment'].rolling(3*365, min_periods=1).sum() + df['fee'].rolling(window, min_periods=1).sum()\n",
    "standard_deviation = int(df['payment'].std()*np.sqrt(3*365))\n",
    "\n",
    "payment = int(df['payment'].mean()*3*365) #annualized\n",
    "fees = int(df['fee'].mean()*3*365) #annualized\n",
    "print(f'The simple strategies pays ${payment} (annualized) with ${fees} in fees. The annual PnL is ${payment+fees}, i.e. {np.round((payment+fees)/notional,4)*100}%.')"
   ]
  },
  {
   "cell_type": "code",
   "execution_count": 231,
   "id": "4fdc22f9",
   "metadata": {},
   "outputs": [
    {
     "data": {
      "text/html": [
       "<div>\n",
       "<style scoped>\n",
       "    .dataframe tbody tr th:only-of-type {\n",
       "        vertical-align: middle;\n",
       "    }\n",
       "\n",
       "    .dataframe tbody tr th {\n",
       "        vertical-align: top;\n",
       "    }\n",
       "\n",
       "    .dataframe thead th {\n",
       "        text-align: right;\n",
       "    }\n",
       "</style>\n",
       "<table border=\"1\" class=\"dataframe\">\n",
       "  <thead>\n",
       "    <tr style=\"text-align: right;\">\n",
       "      <th></th>\n",
       "      <th>payment</th>\n",
       "      <th>fee</th>\n",
       "      <th>PnL</th>\n",
       "      <th>PnL_percent</th>\n",
       "    </tr>\n",
       "  </thead>\n",
       "  <tbody>\n",
       "    <tr>\n",
       "      <th>2019</th>\n",
       "      <td>48033</td>\n",
       "      <td>-20533</td>\n",
       "      <td>27500</td>\n",
       "      <td>0.0275</td>\n",
       "    </tr>\n",
       "    <tr>\n",
       "      <th>2020</th>\n",
       "      <td>139439</td>\n",
       "      <td>-17115</td>\n",
       "      <td>122324</td>\n",
       "      <td>0.1223</td>\n",
       "    </tr>\n",
       "    <tr>\n",
       "      <th>2021</th>\n",
       "      <td>191195</td>\n",
       "      <td>-21062</td>\n",
       "      <td>170133</td>\n",
       "      <td>0.1701</td>\n",
       "    </tr>\n",
       "    <tr>\n",
       "      <th>2022</th>\n",
       "      <td>31148</td>\n",
       "      <td>-135813</td>\n",
       "      <td>-104665</td>\n",
       "      <td>-0.1047</td>\n",
       "    </tr>\n",
       "  </tbody>\n",
       "</table>\n",
       "</div>"
      ],
      "text/plain": [
       "      payment     fee     PnL  PnL_percent\n",
       "2019    48033  -20533   27500       0.0275\n",
       "2020   139439  -17115  122324       0.1223\n",
       "2021   191195  -21062  170133       0.1701\n",
       "2022    31148 -135813 -104665      -0.1047"
      ]
     },
     "execution_count": 231,
     "metadata": {},
     "output_type": "execute_result"
    }
   ],
   "source": [
    "#splitting the statistics into years\n",
    "df_2019 = df[(df['timestamp'] < pd.to_datetime('2020-01-01'))].reset_index(drop=True)\n",
    "df_2020 = df[(df['timestamp'] >= pd.to_datetime('2020-01-01')) & (df['timestamp'] < pd.to_datetime('2021-01-01'))].reset_index(drop=True)\n",
    "df_2021 = df[(df['timestamp'] >= pd.to_datetime('2021-01-01')) & (df['timestamp'] < pd.to_datetime('2022-01-01'))].reset_index(drop=True)\n",
    "df_2022 = df[(df['timestamp'] >= pd.to_datetime('2022-01-01'))].reset_index(drop=True) \n",
    "\n",
    "results = pd.DataFrame(\n",
    "    {'payment': [int(df_2019['payment'].mean()*3*365), int(df_2020['payment'].mean()*3*365), int(df_2021['payment'].mean()*3*365), int(df_2022['payment'].mean()*3*365)],\n",
    "    'fee': [int(df_2019['fee'].mean()*3*365), int(df_2020['fee'].mean()*3*365), int(df_2021['fee'].mean()*3*365), int(df_2022['fee'].mean()*3*365)]},\n",
    "    index = ['2019', '2020', '2021', '2022'])\n",
    "results['PnL'] = results['payment'] + results['fee']\n",
    "results['PnL_percent'] = np.round(results['PnL']/notional,4)\n",
    "results"
   ]
  },
  {
   "cell_type": "code",
   "execution_count": 197,
   "id": "1ac7c7e7",
   "metadata": {},
   "outputs": [
    {
     "data": {
      "text/plain": [
       "[<matplotlib.lines.Line2D at 0x7fa249851760>]"
      ]
     },
     "execution_count": 197,
     "metadata": {},
     "output_type": "execute_result"
    },
    {
     "data": {
      "image/png": "[encoded data removed]",
      "text/plain": [
       "<Figure size 432x288 with 1 Axes>"
      ]
     },
     "metadata": {
      "needs_background": "light"
     },
     "output_type": "display_data"
    }
   ],
   "source": [
    "\n",
    "plt.plot(df['timestamp'], df['payment'].rolling(window, min_periods=1).sum())\n",
    "plt.plot(df['timestamp'], df['fee'].rolling(window, min_periods=1).sum())\n",
    "plt.plot(df['timestamp'], PnL)\n"
   ]
  },
  {
   "cell_type": "code",
   "execution_count": 201,
   "id": "fd06694c",
   "metadata": {},
   "outputs": [
    {
     "data": {
      "text/plain": [
       "0        -340.054621\n",
       "1        -290.065125\n",
       "2        -240.075629\n",
       "3        -233.072101\n",
       "4        -623.116218\n",
       "            ...     \n",
       "2531    48036.981344\n",
       "2532    47831.524516\n",
       "2533    47368.391832\n",
       "2534    47077.133033\n",
       "2535    47077.133033\n",
       "Length: 2536, dtype: float64"
      ]
     },
     "execution_count": 201,
     "metadata": {},
     "output_type": "execute_result"
    }
   ],
   "source": [
    "PnL"
   ]
  },
  {
   "cell_type": "code",
   "execution_count": 199,
   "id": "ccbe08b1",
   "metadata": {},
   "outputs": [
    {
     "data": {
      "text/plain": [
       "[<matplotlib.lines.Line2D at 0x7fa2497f52e0>]"
      ]
     },
     "execution_count": 199,
     "metadata": {},
     "output_type": "execute_result"
    },
    {
     "data": {
      "image/png": "[encoded data removed]",
      "text/plain": [
       "<Figure size 432x288 with 1 Axes>"
      ]
     },
     "metadata": {
      "needs_background": "light"
     },
     "output_type": "display_data"
    }
   ],
   "source": [
    "plt.plot(df['timestamp'].iloc[3*365:], PnL.iloc[3*365:]/notional)"
   ]
  },
  {
   "cell_type": "code",
   "execution_count": null,
   "id": "f93efa37",
   "metadata": {},
   "outputs": [],
   "source": [
    "#funding_rate is a management of slipage & fees\n",
    "#funding_rate is a game of swings!"
   ]
  },
  {
   "cell_type": "code",
   "execution_count": null,
   "id": "d6c6841c",
   "metadata": {},
   "outputs": [],
   "source": []
  },
  {
   "cell_type": "code",
   "execution_count": null,
   "id": "dd6883c1",
   "metadata": {},
   "outputs": [],
   "source": [
    "#statistics\n",
    "#sensitivity"
   ]
  },
  {
   "cell_type": "code",
   "execution_count": null,
   "id": "1e508b08",
   "metadata": {},
   "outputs": [],
   "source": []
  },
  {
   "cell_type": "code",
   "execution_count": null,
   "id": "1e4704f1",
   "metadata": {},
   "outputs": [],
   "source": [
    "#calculate and plot the average deviation of perp and spot\n",
    "panel['deviation'] = (panel['perp']-panel['spot'])/panel['spot']\n",
    "\n",
    "fig, ax = plt.subplots(figsize =(10,4))\n",
    "\n",
    "#omitting first value, as initial listing is outlier\n",
    "ax.scatter(panel['timestamp'].iloc[1:], panel['deviation'].iloc[1:], s=2.5)\n",
    "\n",
    "vals = ax.get_yticks()\n",
    "ax.set_yticklabels(['{:,.2%}'.format(x) for x in vals])\n",
    "\n",
    "ax.set_ylabel('deviation of perp and spot')\n",
    "\n",
    "mean = np.round(panel['deviation'].mean(),4)\n",
    "\n",
    "txt = f'The figure displays the deviation of perps vs. spot on Binance from 11/2019 to 03/2022. \\n The mean devation is {mean*100}%.'\n",
    "fig.text(.5, -.1, txt, ha='center', fontstyle='italic')\n",
    "\n",
    "plt.show()"
   ]
  },
  {
   "cell_type": "code",
   "execution_count": null,
   "id": "bc47248e",
   "metadata": {},
   "outputs": [],
   "source": [
    "#take a look at the distribution\n",
    "panel = panel.iloc[1:]\n",
    "panel = panel.dropna()\n",
    "\n",
    "fig, ax = plt.subplots(figsize =(4,8))\n",
    "ax.boxplot(panel['deviation'])\n",
    "vals = ax.get_yticks()\n",
    "ax.set_yticklabels(['{:,.2%}'.format(x) for x in vals])\n",
    "\n",
    "txt = f'The figure displays the distribution of the deviation. \\n It is quite compact around the mean, however there are several outliers for a positive deviation, i.e. the perp traded above the spot.'\n",
    "fig.text(.5, -.1, txt, ha='center', fontstyle='italic')\n",
    "\n",
    "plt.show()"
   ]
  },
  {
   "cell_type": "markdown",
   "id": "370df961",
   "metadata": {},
   "source": [
    "\n",
    "We want to test different hypotheses about the relationship of the funding rate with other market parameters.\n",
    "- H1: The funding rate is impacted by the returns of the underlying. The funding rate is high during bull markets.\n",
    "- H2: The funding rate is impacted by volatility in the market. The spread between perpetual and index widens.\n",
    "- H3: The funding rate is impacted by volume in the market. High volumes decreased the spread between perpetual and index.\n",
    "- H_future: The funding rate is impacted by retail involvement. -> How to test?"
   ]
  },
  {
   "cell_type": "code",
   "execution_count": null,
   "id": "f96334e2",
   "metadata": {},
   "outputs": [],
   "source": [
    "import statsmodels.formula as smf\n",
    "import statsmodels.api\n",
    "import statsmodels.stats as ss"
   ]
  },
  {
   "cell_type": "code",
   "execution_count": null,
   "id": "31c4b6cc",
   "metadata": {},
   "outputs": [],
   "source": [
    "funding_rate = pd.read_csv('rate_eth_usdt.csv', parse_dates=['timestamp'])\n",
    "perp = pd.read_csv('perp_eth_usdt_1h.csv', parse_dates=['timestamp'])\n",
    "spot = pd.read_csv('spot_eth_usdt_1h.csv', parse_dates=['timestamp'])\n",
    "\n",
    "#rate_sample = rate[(rate['timestamp'] >= '2021-03-01') & (rate['timestamp'] <= '2022-03-01')].reset_index(drop=True)\n",
    "#perp_sample = perp[(perp['timestamp'] >= '2021-03-01') & (perp['timestamp'] <= '2022-03-01')].reset_index(drop=True)\n",
    "#spot_sample = spot[(spot['timestamp'] >= '2021-03-01') & (spot['timestamp'] <= '2022-03-01')].reset_index(drop=True)"
   ]
  },
  {
   "cell_type": "code",
   "execution_count": null,
   "id": "5ba99608",
   "metadata": {},
   "outputs": [],
   "source": [
    "#We prepare a simpel panel for the regression. Note: The funding rate is measured every 8h. We gather the prices of perpetual swaps and and spot every hour.\n",
    "#Thus we map all the data on equal timestamps, resulting in 8h intervals over 2.5 years.\n",
    "\n",
    "panel = funding_rate[['epoch', 'timestamp', 'rate']]\n",
    "panel = panel.rename(columns={'rate': 'funding_rate'})\n",
    "\n",
    "panel = pd.merge(panel,\n",
    "                 perp[['epoch', 'open', 'volume']],\n",
    "                 on='epoch', \n",
    "                 how='left')\n",
    "panel = panel.rename(columns={'open': 'perp', 'volume': 'vol_perp'})\n",
    "\n",
    "panel = pd.merge(panel,\n",
    "                 spot[['epoch', 'open', 'volume']],\n",
    "                 on='epoch', \n",
    "                 how='left')\n",
    "panel = panel.rename(columns={'open': 'spot', 'volume': 'vol_spot'})\n",
    "\n"
   ]
  },
  {
   "cell_type": "code",
   "execution_count": null,
   "id": "8a8ec745",
   "metadata": {},
   "outputs": [],
   "source": [
    "panel['vol_spot_perp'] = panel['vol_spot']/panel['vol_perp']"
   ]
  },
  {
   "cell_type": "code",
   "execution_count": null,
   "id": "035ac992",
   "metadata": {},
   "outputs": [],
   "source": [
    "#calculate funding_rate t-1\n",
    "panel['previous_funding_rate'] = panel['funding_rate'].shift(1)\n",
    "#calculate spot return\n",
    "panel['return_t'] = (panel['spot'] - panel['spot'].shift(1))/panel['spot'].shift(1)\n",
    "#7days standard deviation\n",
    "panel['std_7d'] = panel['spot'].rolling(3*7).std()"
   ]
  },
  {
   "cell_type": "code",
   "execution_count": null,
   "id": "e24e7634",
   "metadata": {},
   "outputs": [],
   "source": [
    "panel = panel.dropna().reset_index(drop=True)"
   ]
  },
  {
   "cell_type": "code",
   "execution_count": null,
   "id": "52415992",
   "metadata": {},
   "outputs": [],
   "source": [
    "results = smf.api.ols('funding_rate ~ return_t + previous_funding_rate + std_7d + vol_perp + vol_spot + vol_spot_perp', data = panel).fit()\n",
    "results.summary2()\n"
   ]
  },
  {
   "cell_type": "markdown",
   "id": "6ecc0d8f",
   "metadata": {},
   "source": [
    "The returns on the spot market, the previous funding rate $fr_{t-1}$ as well as the trading volume on the perpetual market are statistically significant. \n",
    "Suprisingly the volatiliy does not have and impact.\n",
    "Overall the variables explain 57.6% ($R^2$) of the overall variance.\n",
    "\n",
    "- H1: The funding rate is impacted by the returns of the underlying. The funding rate is high during bull markets. -> not rejected\n",
    "- H2: The funding rate is impacted by volatility in the market. The spread between perpetual and index widens. -> rejected\n",
    "- H3: The funding rate is impacted by volume in the market. High volumes decreased the spread between perpetual and index. -> not rejected"
   ]
  },
  {
   "cell_type": "markdown",
   "id": "2a5e4dbf",
   "metadata": {},
   "source": [
    "### 3) CIP arbitrage"
   ]
  },
  {
   "cell_type": "markdown",
   "id": "e9e473ff",
   "metadata": {},
   "source": [
    "Lastly we study deviations from the covered interest parity. The CIP dictates the relation between spot, futures and interest rate differentials.\n",
    "Whereas the CIP devation is violated if $(i_{t}^{USD}-i_{t}^{CRYPTO})-(1/T)*(f_{t}^{T}-s_t)$ is larger or below zero.\n",
    "- For example if the basis ($f_{t}^{T}-s_t$) is higher than the interest rate differential ($i_{t}^{USD}-i_{t}^{CRYPTO}$), an arbitrageur could sell the future, buy the spot financed with a USD loan, and invest the proceeds at the $i_{t}^{CRYPTO}$ interest rate.\n",
    "- We scale the basis to match the maturity of the daily interest rate differential by multiplying with the time to maturity ($1/(T-t)$, i.e. 1/(3*365)\n",
    "- We calculate the gross return (before substracting fees and transactions costs) and imply a trade size of \\$1mn to account for slipage.\n",
    "- We calculate the profitability for different thresholds $A$, for a strategy when the CIP violation is larger than $A=$\\{0.1, 0.01, 0.001}\n",
    "\n",
    "- As interest rate we take the compound.finance rates, it is as \"close as big banks can borrow\"\n"
   ]
  },
  {
   "cell_type": "code",
   "execution_count": null,
   "id": "6d94c0c5",
   "metadata": {},
   "outputs": [],
   "source": [
    "spot = pd.read_csv('spot_eth_usdt_1h.csv', parse_dates=['timestamp'])\n",
    "perp = pd.read_csv('perp_eth_usdt_1h.csv', parse_dates=['timestamp'])\n",
    "i_crypto = pd.read_csv('interest_eth.csv')\n",
    "i_usdt = pd.read_csv('interest_usdt.csv')\n",
    "i_crypto['timestamp'] = pd.to_datetime(i_crypto['timestamp'], format='%d/%m/%Y %H.%M')\n",
    "i_usdt['timestamp'] = pd.to_datetime(i_usdt['timestamp'], format='%d/%m/%Y %H.%M')\n",
    "i_crypto = i_crypto.drop(columns=[i_crypto.columns[4]])\n",
    "i_usdt = i_usdt.drop(columns=[i_usdt.columns[4]])\n",
    "funding_rate_crypto = pd.read_csv('rate_eth_usdt.csv', parse_dates=['timestamp'])"
   ]
  },
  {
   "cell_type": "code",
   "execution_count": null,
   "id": "5cef7a74",
   "metadata": {},
   "outputs": [],
   "source": [
    "i_crypto['day'] = i_crypto['timestamp'].dt.round('D')\n",
    "i_usdt['day'] = i_usdt['timestamp'].dt.round('D')\n",
    "funding_rate_crypto['day'] = funding_rate_crypto['timestamp'].dt.round('D')"
   ]
  },
  {
   "cell_type": "code",
   "execution_count": null,
   "id": "c56f707c",
   "metadata": {},
   "outputs": [],
   "source": [
    "panel = funding_rate_crypto[['epoch', 'timestamp', 'day', 'rate']]\n",
    "panel = panel.rename(columns={'close': 'funding_rate'})\n",
    "\n",
    "panel = pd.merge(panel,\n",
    "                 spot[['epoch', 'close']],\n",
    "                 on='epoch', \n",
    "                 how='left')\n",
    "panel = panel.rename(columns={'close': 'spot'})\n",
    "\n",
    "\n",
    "panel = pd.merge(panel,\n",
    "                 perp[['epoch', 'close']],\n",
    "                 on='epoch', \n",
    "                 how='left')\n",
    "panel = panel.rename(columns={'close': 'perp'})\n",
    "\n",
    "panel = pd.merge(panel,\n",
    "                 i_crypto[['day', 'apy']],\n",
    "                 on='day', \n",
    "                 how='right')\n",
    "panel = panel.rename(columns={'apy': 'icrypto'})\n",
    "\n",
    "panel = pd.merge(panel,\n",
    "                 i_usdt[['day', 'apy']],\n",
    "                 on='day', \n",
    "                 how='right')\n",
    "panel = panel.rename(columns={'apy': 'iusdt'})\n"
   ]
  },
  {
   "cell_type": "code",
   "execution_count": null,
   "id": "d36ab318",
   "metadata": {},
   "outputs": [],
   "source": [
    "T = 1/(3*365) #we receive interest every 8h for 365 days\n",
    "\n",
    "# cip = interest rate differential - basis -> cip = yt - pt\n",
    "panel['yt'] = panel['iusdt'] - panel['icrypto'] #the interest rate differential\n",
    "panel['pt'] = -(1/T)*(np.log(panel['perp']) - np.log(panel['spot'])) #the basis\n",
    "panel['cip'] = panel['iusdt'] - panel['icrypto'] - (1/T)*(np.log(panel['perp']) - np.log(panel['spot']))\n",
    "\n",
    "#taking the absolute mean\n",
    "mean = np.round(abs(panel['cip']).mean(),4)\n",
    "\n",
    "print(f'The absolute mean deviation from the covered interest rate parity is {mean*100}%. Sampled from Binance over 500 days from 10/2020 till 03/2022.')"
   ]
  },
  {
   "cell_type": "code",
   "execution_count": null,
   "id": "6b10721c",
   "metadata": {},
   "outputs": [],
   "source": [
    "#plotting the cip over time\n",
    "fig, ax = plt.subplots(figsize =(10,4))\n",
    "\n",
    "ax.scatter(panel['timestamp'], panel['yt'], s=2.5)\n",
    "ax.scatter(panel['timestamp'], panel['pt'], s=2.5)\n",
    "\n",
    "\n",
    "vals = ax.get_yticks()\n",
    "ax.set_yticklabels(['{:,.0%}'.format(x) for x in vals])\n",
    "\n",
    "ax.legend(['yt', 'pt'], loc='lower right')\n",
    "ax.set_ylabel('cip violation')\n",
    "\n",
    "txt = f'The figure displays the cip violation, i.e. violations against the theoretical 0%. \\n The basis (pt), the deviation between perp and spot is the significant component. The interest rate differential (yt) is irrelevant.'\n",
    "fig.text(.5, -.1, txt, ha='center', fontstyle='italic')\n",
    "\n",
    "plt.show()"
   ]
  },
  {
   "cell_type": "code",
   "execution_count": null,
   "id": "d6f2f6ac",
   "metadata": {},
   "outputs": [],
   "source": [
    "# We calculate the profitability for different thresholds  𝐴, for a strategy where the annualized CIP violation is larger than 𝐴={0.1, 0.01}\n",
    "panel['abs_cip'] = abs(panel['cip'])\n",
    "panel['return_8h'] = panel['abs_cip']*T\n",
    "\n",
    "A = [1.0, 0.1, 0.01]\n",
    "\n",
    "for j in range(0,len(A)):\n",
    "    temp = panel[panel['abs_cip'] > A[j]]\n",
    "    temp = temp.reset_index(drop=True)\n",
    "    temp['pf'] = 0.0\n",
    "    temp['pf'][0] = 1 * (1+temp['return_8h'][0])\n",
    "\n",
    "    for i in range(1,len(temp)):\n",
    "        temp['pf'][i] = temp['pf'][i-1]*(1+temp['return_8h'][i])\n",
    "\n",
    "    result = np.round(temp['pf'].iloc[-1]-1, 6)\n",
    "    print(f'Perfectly exploiting cip devation larger than 𝐴 = {A[j]}, yields {result*100}% (compounded) over the 500 trading days, equivalent to {np.round(result*100/(500/365), 2)}% per annum.')"
   ]
  },
  {
   "cell_type": "code",
   "execution_count": null,
   "id": "f8a05ca8",
   "metadata": {},
   "outputs": [],
   "source": [
    "\n",
    "\n",
    "#1) CIP\n",
    "#2) interest rate does not matter\n",
    "#3) Perpetual trade -> implement w. different prices\n",
    "#4) sensitivity"
   ]
  },
  {
   "cell_type": "markdown",
   "id": "a615c528",
   "metadata": {},
   "source": [
    "## Appendix"
   ]
  },
  {
   "cell_type": "code",
   "execution_count": null,
   "id": "f66cbb10",
   "metadata": {},
   "outputs": [],
   "source": [
    "#Tests for regression\n",
    "\n",
    "# Adj R²\n",
    "results.rsquared_adj\n",
    "\n",
    "#scatter residuals\n",
    "results.resid\n",
    "plt.scatter(x=results.resid.index, y=results.resid)\n",
    "\n",
    "# Durbin-Watson\n",
    "dw = ss.stattools.durbin_watson(results.resid) #p-value\n",
    "# JB \n",
    "jb = ss.stattools.jarque_bera(results.resid)\n",
    "jb[1] # p-value\n",
    "# KS\n",
    "ks = ss.diagnostic.kstest_normal(results.resid)[1] #p-value\n",
    "ks"
   ]
  },
  {
   "cell_type": "code",
   "execution_count": null,
   "id": "a3bc1a04",
   "metadata": {},
   "outputs": [],
   "source": [
    "#calculating the funding rate based on the data\n",
    "panel = spot[['epoch', 'timestamp', 'close']]\n",
    "panel = panel.rename(columns={'close': 'spot'})\n",
    "\n",
    "panel = pd.merge(panel,\n",
    "                 perp[['epoch', 'close']],\n",
    "                 on='epoch', \n",
    "                 how='left')\n",
    "panel = panel.rename(columns={'close': 'perp'})\n",
    "\n",
    "panel = panel.dropna()\n",
    "#sample\n",
    "panel = panel.iloc[::8, :]\n",
    "\n",
    "panel['premium'] = (panel['perp']-panel['spot'])/panel['spot']\n",
    "\n",
    "interest = 0.0001\n",
    "panel['fr'] = (panel['premium'] + interest)\n",
    "\n",
    "panel['fr'].mean()*3*365"
   ]
  }
 ],
 "metadata": {
  "kernelspec": {
   "display_name": "Python 3",
   "language": "python",
   "name": "python3"
  },
  "language_info": {
   "codemirror_mode": {
    "name": "ipython",
    "version": 3
   },
   "file_extension": ".py",
   "mimetype": "text/x-python",
   "name": "python",
   "nbconvert_exporter": "python",
   "pygments_lexer": "ipython3",
   "version": "3.8.8"
  }
 },
 "nbformat": 4,
 "nbformat_minor": 5
}
