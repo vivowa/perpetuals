{
 "cells": [
  {
   "cell_type": "markdown",
   "metadata": {},
   "source": [
    "This script gathers perpetual future snapshots from kaiko"
   ]
  },
  {
   "cell_type": "code",
   "execution_count": 3,
   "metadata": {},
   "outputs": [],
   "source": [
    "import requests\n",
    "import pandas as pd\n",
    "import datetime\n",
    "import time"
   ]
  },
  {
   "cell_type": "markdown",
   "metadata": {},
   "source": [
    "### raw"
   ]
  },
  {
   "cell_type": "code",
   "execution_count": null,
   "metadata": {},
   "outputs": [],
   "source": [
    "def process_kaiko_raw(raw):\n",
    "#trading data\n",
    "    for i in range(len(raw)):\n",
    "                    epoch = int(raw[i]['poll_timestamp']/1000)\n",
    "                    time = datetime.datetime.utcfromtimestamp(epoch)\n",
    "                \n",
    "                    mid_price = raw[i]['mid_price']\n",
    "                    spread = raw[i]['spread']\n",
    "                    ask_slippage = raw[i]['ask_slippage']\n",
    "                    bid_slippage = raw[i]['bid_slippage']\n",
    "                    asks = raw[i]['asks']\n",
    "                    bids = raw[i]['bids']\n",
    "\n",
    "                    lst.append([epoch, time, mid_price, spread, ask_slippage, bid_slippage, asks, bids])\n",
    "    return"
   ]
  },
  {
   "cell_type": "code",
   "execution_count": null,
   "metadata": {},
   "outputs": [],
   "source": [
    "symbol = 'eth-usdt'\n",
    "slippage = 1e6\n",
    "lst = []\n",
    "\n",
    "oderbook = 'snapshots'\n",
    "\n",
    "#end_time = datetime.datetime.utcnow()\n",
    "#start_time = end_time - datetime.timedelta(minutes=50)\n",
    "#end_time_iso = end_time.strftime('%Y-%m-%dT%H:%M:%S.%fZ')\n",
    "\n",
    "start_time = datetime.datetime.utcfromtimestamp(1661126400) #22.08.2022\n",
    "start_time_iso = start_time.strftime('%Y-%m-%dT%H:%M:%S.%fZ')"
   ]
  },
  {
   "cell_type": "code",
   "execution_count": null,
   "metadata": {},
   "outputs": [],
   "source": [
    "counter = 0\n",
    "cont = True\n",
    "while cont:\n",
    "    counter += 1\n",
    "    header = {'X-Api-Key': '68cf96d421857181898149886cc12ddc'}\n",
    "    query = f'https://eu.market-api.kaiko.io/v2/data/order_book_snapshots.v1/exchanges/binc/perpetual-future/{symbol}/{oderbook}/full?start_time={start_time_iso}&slippage={slippage}&sort=asc&page_size=100&slippage_ref=best'\n",
    "    response = requests.get(query, headers=header)\n",
    "    raw = response.json()\n",
    "    #next_url = raw['next_url']\n",
    "    raw = raw['data']\n",
    "    \n",
    "    print(counter, ': ', start_time_iso, 'to', raw[-1]['poll_date'])\n",
    "    process_kaiko_raw(raw)\n",
    "  \n",
    "    start_time_iso = raw[-1]['poll_date']\n",
    "    \n",
    "    #end_time_iso = start_time_iso\n",
    "    #start_time = start_time - datetime.timedelta(minutes=50)\n",
    "    #start_time_iso = start_time.strftime('%Y-%m-%dT%H:%M:%S.%fZ')\n",
    "    \n",
    "    time.sleep(2)\n",
    "    \n",
    "    if int(raw[-1]['poll_timestamp']/1000) >= 1662987000: #today\n",
    "        cont = False"
   ]
  },
  {
   "cell_type": "code",
   "execution_count": null,
   "metadata": {},
   "outputs": [],
   "source": [
    "df = pd.DataFrame(lst, columns=['epoch', 'date', 'mid_price', 'spread', 'ask_slippage', 'bid_slippage', 'asks', 'bids'])\n",
    "df.sort_values(by=['epoch'], ascending=True, inplace=True)\n",
    "df = df.drop_duplicates(subset=['epoch'], keep='first')\n",
    "df = df.reset_index(drop=True)\n",
    "\n",
    "df['ask_slippage'] = df['ask_slippage'].astype('float')\n",
    "df['bid_slippage'] = df['bid_slippage'].astype('float')\n",
    "df['spread'] = df['spread'].astype('float')"
   ]
  },
  {
   "cell_type": "code",
   "execution_count": null,
   "metadata": {},
   "outputs": [],
   "source": [
    "#store in csv\n",
    "df.to_csv(f'data/orderbook_eth_usdt.csv', index=False)"
   ]
  },
  {
   "cell_type": "markdown",
   "metadata": {},
   "source": [
    "### aggregated"
   ]
  },
  {
   "cell_type": "code",
   "execution_count": 1,
   "metadata": {},
   "outputs": [],
   "source": [
    "def process_kaiko_agg(raw):\n",
    "#trading data\n",
    "    for i in range(len(raw)):\n",
    "                    epoch = int(raw[i]['poll_timestamp']/1000)\n",
    "                    time = datetime.datetime.utcfromtimestamp(epoch)\n",
    "                \n",
    "                    mid_price = raw[i]['mid_price']\n",
    "                    spread = raw[i]['spread']\n",
    "                    ask_slippage = raw[i]['ask_slippage']\n",
    "                    bid_slippage = raw[i]['bid_slippage']\n",
    "\n",
    "                    lst.append([epoch, time, mid_price, spread, ask_slippage, bid_slippage])\n",
    "    return"
   ]
  },
  {
   "cell_type": "code",
   "execution_count": 15,
   "metadata": {},
   "outputs": [],
   "source": [
    "symbol = 'doge-usdt'\n",
    "slippage = 1e6\n",
    "lst = []\n",
    "\n",
    "oderbook = 'ob_aggregations'\n",
    "#interval = '1h'\n",
    "interval = '1m'\n",
    "\n",
    "start_time = datetime.datetime.utcfromtimestamp(1661126400) #22.08.2022\n",
    "start_time_iso = start_time.strftime('%Y-%m-%dT%H:%M:%S.%fZ')"
   ]
  },
  {
   "cell_type": "code",
   "execution_count": null,
   "metadata": {},
   "outputs": [
    {
     "name": "stdout",
     "output_type": "stream",
     "text": [
      "1 :  2022-08-22T00:00:00.000000Z to 2022-08-22T01:39:00.000000Z\n",
      "2 :  2022-08-22T01:39:00.000000Z to 2022-08-22T03:18:00.000000Z\n"
     ]
    }
   ],
   "source": [
    "counter = 0\n",
    "cont = True\n",
    "while cont:\n",
    "    counter += 1\n",
    "    header = {'X-Api-Key': '68cf96d421857181898149886cc12ddc'}\n",
    "    query = f'https://eu.market-api.kaiko.io/v2/data/order_book_snapshots.v1/exchanges/binc/perpetual-future/{symbol}/{oderbook}/full?start_time={start_time_iso}&interval={interval}&slippage={slippage}&sort=asc&page_size=100&slippage_ref=best'\n",
    "    response = requests.get(query, headers=header)\n",
    "    raw = response.json()\n",
    "    raw = raw['data']\n",
    "\n",
    "    process_kaiko_agg(raw)\n",
    "    \n",
    "    start_time_iso_old = start_time_iso\n",
    "      \n",
    "    start_time = datetime.datetime.utcfromtimestamp(raw[-1]['poll_timestamp']/1000)\n",
    "    start_time_iso = start_time.strftime('%Y-%m-%dT%H:%M:%S.%fZ')\n",
    "        \n",
    "    print(counter, ': ', start_time_iso_old, 'to', start_time_iso)\n",
    "    \n",
    "    time.sleep(2)\n",
    "    \n",
    "    if int(raw[-1]['poll_timestamp']/1000) >= 1663500000: #today\n",
    "        cont = False"
   ]
  },
  {
   "cell_type": "code",
   "execution_count": null,
   "metadata": {
    "scrolled": true
   },
   "outputs": [],
   "source": [
    "df = pd.DataFrame(lst, columns=['epoch', 'date', 'mid_price', 'spread', 'ask_slippage', 'bid_slippage'])\n",
    "df.sort_values(by=['epoch'], ascending=True, inplace=True)\n",
    "df = df.drop_duplicates(subset=['epoch'], keep='first')\n",
    "df = df.reset_index(drop=True)\n",
    "\n",
    "df['ask_slippage'] = df['ask_slippage'].astype('float')\n",
    "df['bid_slippage'] = df['bid_slippage'].astype('float')\n",
    "df['spread'] = df['spread'].astype('float')\n",
    "df"
   ]
  },
  {
   "cell_type": "code",
   "execution_count": null,
   "metadata": {},
   "outputs": [],
   "source": [
    "#store in csv\n",
    "df.to_csv(f'data/orderbook_btc_usdt_agg_1m.csv', index=False)"
   ]
  },
  {
   "cell_type": "code",
   "execution_count": null,
   "metadata": {},
   "outputs": [],
   "source": []
  }
 ],
 "metadata": {
  "kernelspec": {
   "display_name": "Python 3",
   "language": "python",
   "name": "python3"
  },
  "language_info": {
   "codemirror_mode": {
    "name": "ipython",
    "version": 3
   },
   "file_extension": ".py",
   "mimetype": "text/x-python",
   "name": "python",
   "nbconvert_exporter": "python",
   "pygments_lexer": "ipython3",
   "version": "3.8.3"
  }
 },
 "nbformat": 4,
 "nbformat_minor": 5
}
