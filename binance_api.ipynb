{
 "cells": [
  {
   "cell_type": "markdown",
   "metadata": {},
   "source": [
    "This script gathers perpetual, spot and funding rate data from coingecko API"
   ]
  },
  {
   "cell_type": "code",
   "execution_count": null,
   "metadata": {},
   "outputs": [],
   "source": [
    "import requests\n",
    "import pandas as pd\n",
    "import datetime\n",
    "import time\n"
   ]
  },
  {
   "cell_type": "markdown",
   "metadata": {},
   "source": [
    "perp = f'https://fapi.binance.com/fapi/v1/continuousKlines?pair={symbol}&contractType={contract}&interval={interval}&endTime={endtime}'\n",
    "spot = f'https://api.binance.com/api/v3/klines?symbol={symbol}&interval={interval}&endTime={endtime}'\n",
    "index = f'https://fapi.binance.com/fapi/v1/indexPriceKlines?pair={symbol}&contractType={contract}&interval={interval}'\n",
    "mark = f'https://fapi.binance.com/fapi/v1/markPriceKlines?symbol={symbol}&interval={interval}'\n",
    "rate = f'https://fapi.binance.com/fapi/v1/fundingRate?symbol={symbol}&endTime={endtime}&limit=500'\n",
    "#interest = f'https://api.binance.com/sapi/v1/lending/union/interestHistory?lendingType=DAILY&asset=BTC'\n"
   ]
  },
  {
   "cell_type": "code",
   "execution_count": null,
   "metadata": {},
   "outputs": [],
   "source": [
    "def process_trading(raw):\n",
    "#trading data\n",
    "    for i in range(len(raw)):\n",
    "                    epoch = int(raw[i][0]/1000)\n",
    "                    time = datetime.datetime.utcfromtimestamp(int(raw[i][0]/1000)) #converting epoch from ms to seconds\n",
    "\n",
    "                    opn = raw[i][1]\n",
    "                    hgh = raw[i][2]\n",
    "                    low = raw[i][3]\n",
    "                    cls = raw[i][4]\n",
    "                    volume = raw[i][5]\n",
    "                    usd_volume = raw[i][7]\n",
    "                    trades = raw[i][8]\n",
    "\n",
    "                    lst.append([epoch, time, opn, hgh, low, cls, volume, usd_volume, trades])\n",
    "    return"
   ]
  },
  {
   "cell_type": "code",
   "execution_count": null,
   "metadata": {},
   "outputs": [],
   "source": [
    "symbol_lst = ['ETHUSDT', 'BTCUSDT', 'DOGEUSDT', 'BNBUSDT', 'ADAUSDT']\n",
    "currencies_lst = ['eth', 'btc', 'doge', 'bnb', 'ada']\n",
    "contract = 'PERPETUAL'\n",
    "interval = '1h'\n",
    "symbol = symbol_lst[2]\n",
    "currencies = currencies_lst[2]\n"
   ]
  },
  {
   "cell_type": "markdown",
   "metadata": {},
   "source": [
    "## spot"
   ]
  },
  {
   "cell_type": "code",
   "execution_count": null,
   "metadata": {},
   "outputs": [],
   "source": [
    "lst = []\n",
    "endtime = int(datetime.datetime.now().strftime('%s')) * 1000"
   ]
  },
  {
   "cell_type": "code",
   "execution_count": null,
   "metadata": {},
   "outputs": [],
   "source": [
    "cont = True\n",
    "counter = 0\n",
    "\n",
    "while cont:\n",
    "    query = f'https://api.binance.com/api/v3/klines?symbol={symbol}&interval={interval}&endTime={endtime}'\n",
    "    response = requests.get(query)\n",
    "    raw = response.json()\n",
    "    process_trading(raw)\n",
    "    endtime = raw[0][0]\n",
    "    print(counter, datetime.datetime.utcfromtimestamp(int(endtime/1000)))\n",
    "    counter += 1\n",
    "    time.sleep(.5)\n",
    "\n",
    "    if len(raw) < 500:\n",
    "        cont = False\n",
    "    if endtime < 1561939200000:\n",
    "        cont = False"
   ]
  },
  {
   "cell_type": "code",
   "execution_count": null,
   "metadata": {},
   "outputs": [],
   "source": [
    "df_trading = pd.DataFrame(lst, columns=['epoch', 'timestamp', 'open', 'high', 'low', 'close', 'volume', 'usd_volume', 'trades'])\n",
    "df = df_trading.copy()\n",
    "df.sort_values(by=['epoch'], ascending=True, inplace=True)\n",
    "df = df.drop_duplicates(subset=['epoch'], keep='first')\n",
    "df = df.reset_index(drop=True)\n",
    "df"
   ]
  },
  {
   "cell_type": "code",
   "execution_count": null,
   "metadata": {},
   "outputs": [],
   "source": [
    "df = df[df['timestamp'] >= '2019-01-01']"
   ]
  },
  {
   "cell_type": "code",
   "execution_count": null,
   "metadata": {},
   "outputs": [],
   "source": [
    "#store in csv\n",
    "df.to_csv(f'data/spot_{currencies}_usdt_{interval}.csv', index=False)\n",
    "\n",
    "print('spot_', currencies, '.csv created')\n",
    "print(currencies, 'first row', df.iloc[0])\n",
    "print(currencies, 'last row', df.iloc[-1])\n",
    "print('')"
   ]
  },
  {
   "cell_type": "markdown",
   "metadata": {},
   "source": [
    "## futures api"
   ]
  },
  {
   "cell_type": "code",
   "execution_count": null,
   "metadata": {},
   "outputs": [],
   "source": [
    "lst = []\n",
    "endtime = int(datetime.datetime.now().strftime('%s')) * 1000"
   ]
  },
  {
   "cell_type": "code",
   "execution_count": null,
   "metadata": {},
   "outputs": [],
   "source": [
    "cont = True\n",
    "counter = 0\n",
    "\n",
    "while cont:\n",
    "    query = f'https://fapi.binance.com/fapi/v1/continuousKlines?pair={symbol}&contractType={contract}&interval={interval}&endTime={endtime}'\n",
    "    response = requests.get(query)\n",
    "    raw = response.json()\n",
    "    process_trading(raw)\n",
    "    endtime = raw[0][0]\n",
    "    print(counter, datetime.datetime.utcfromtimestamp(int(endtime/1000)))\n",
    "    counter += 1\n",
    "    time.sleep(.5)\n",
    "    if len(raw) < 500:\n",
    "        cont = False"
   ]
  },
  {
   "cell_type": "code",
   "execution_count": null,
   "metadata": {},
   "outputs": [],
   "source": [
    "df_trading = pd.DataFrame(lst, columns=['epoch', 'timestamp', 'open', 'high', 'low', 'close', 'volume', 'usd_volume', 'trades'])\n",
    "df = df_trading.copy()\n",
    "df.sort_values(by=['epoch'], ascending=True, inplace=True)\n",
    "df = df.drop_duplicates(subset=['epoch'], keep='first')\n",
    "df = df.reset_index(drop=True)\n",
    "df"
   ]
  },
  {
   "cell_type": "code",
   "execution_count": null,
   "metadata": {},
   "outputs": [],
   "source": [
    "#store in csv\n",
    "df.to_csv(f'data/perp_{currencies}_usdt_{interval}.csv', index=False)\n",
    "\n",
    "print('perp_', currencies, '.csv created')\n",
    "print(currencies, 'first row', df.iloc[0])\n",
    "print(currencies, 'last row', df.iloc[-1])\n",
    "print('')"
   ]
  },
  {
   "cell_type": "markdown",
   "metadata": {},
   "source": [
    "## funding rate"
   ]
  },
  {
   "cell_type": "code",
   "execution_count": null,
   "metadata": {},
   "outputs": [],
   "source": [
    "def process_funding(raw):\n",
    "#funding rate\n",
    "    for i in range(len(raw)):\n",
    "                    epoch = int(raw[i]['fundingTime']/1000)\n",
    "                    time = datetime.datetime.utcfromtimestamp(int(raw[i]['fundingTime']/1000)) #converting epoch from ms to seconds\n",
    "                    rate = raw[i]['fundingRate']\n",
    "\n",
    "                    lst.append([epoch, time, rate])\n",
    "    return"
   ]
  },
  {
   "cell_type": "code",
   "execution_count": null,
   "metadata": {},
   "outputs": [],
   "source": [
    "lst = []\n",
    "starttime = 1559347200000 #'2019-06-01 00:00:00'"
   ]
  },
  {
   "cell_type": "code",
   "execution_count": null,
   "metadata": {},
   "outputs": [],
   "source": [
    "cont = True\n",
    "\n",
    "while cont:\n",
    "    query = f'https://fapi.binance.com/fapi/v1/fundingRate?symbol={symbol}&startTime={starttime}&limit=500'\n",
    "    response = requests.get(query)\n",
    "    raw = response.json()\n",
    "    process_funding(raw)\n",
    "    starttime = raw[-1]['fundingTime']\n",
    "    if len(raw) < 500: \n",
    "        cont = False"
   ]
  },
  {
   "cell_type": "code",
   "execution_count": null,
   "metadata": {},
   "outputs": [],
   "source": [
    "df_funding = pd.DataFrame(lst, columns=['epoch', 'timestamp', 'funding_rate'])\n",
    "df = df_funding.copy()\n",
    "df.sort_values(by=['epoch'], ascending=True, inplace=True)\n",
    "df = df.drop_duplicates(subset=['epoch'], keep='first')\n",
    "df = df.reset_index(drop=True)\n",
    "df"
   ]
  },
  {
   "cell_type": "code",
   "execution_count": null,
   "metadata": {},
   "outputs": [],
   "source": [
    "#store in csv\n",
    "df.to_csv(f'data/rate_{currencies}_usdt.csv', index=False)\n",
    "\n",
    "print('funding_rate_', currencies, '.csv created')\n",
    "print(currencies, 'first row', df.iloc[0])\n",
    "print(currencies, 'last row', df.iloc[-1])\n",
    "print('')"
   ]
  }
 ],
 "metadata": {
  "kernelspec": {
   "display_name": "Python 3",
   "language": "python",
   "name": "python3"
  },
  "language_info": {
   "codemirror_mode": {
    "name": "ipython",
    "version": 3
   },
   "file_extension": ".py",
   "mimetype": "text/x-python",
   "name": "python",
   "nbconvert_exporter": "python",
   "pygments_lexer": "ipython3",
   "version": "3.8.3"
  }
 },
 "nbformat": 4,
 "nbformat_minor": 5
}
