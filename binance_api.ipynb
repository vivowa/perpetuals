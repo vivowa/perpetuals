{
 "cells": [
  {
   "cell_type": "markdown",
   "id": "5bae20db",
   "metadata": {},
   "source": [
    "This script gathers perpetual, spot and funding rate data from coingecko API"
   ]
  },
  {
   "cell_type": "code",
   "execution_count": null,
   "id": "22f620c7",
   "metadata": {},
   "outputs": [],
   "source": [
    "import requests\n",
    "import pandas as pd\n",
    "import datetime"
   ]
  },
  {
   "cell_type": "markdown",
   "id": "692bd281-caef-42e0-b9ee-2ed3b32f271a",
   "metadata": {},
   "source": [
    "perp = f'https://fapi.binance.com/fapi/v1/continuousKlines?pair={symbol}&contractType={contract}&interval={interval}&endTime={endtime}'\n",
    "spot = f'https://api.binance.com/api/v3/klines?symbol={symbol}&interval={interval}&endTime={endtime}'\n",
    "index = f'https://fapi.binance.com/fapi/v1/indexPriceKlines?pair={symbol}&contractType={contract}&interval={interval}'\n",
    "mark = f'https://fapi.binance.com/fapi/v1/markPriceKlines?symbol={symbol}&interval={interval}'\n",
    "rate = f'https://fapi.binance.com/fapi/v1/fundingRate?symbol={symbol}&endTime={endtime}&limit=500'\n",
    "#interest = f'https://api.binance.com/sapi/v1/lending/union/interestHistory?lendingType=DAILY&asset=BTC'\n"
   ]
  },
  {
   "cell_type": "code",
   "execution_count": null,
   "id": "0ed2a319-a79d-4cb9-8285-15d123c2ae40",
   "metadata": {},
   "outputs": [],
   "source": [
    "def process_trading(raw):\n",
    "#trading data\n",
    "    for i in range(len(raw)):\n",
    "                    epoch = int(raw[i][0]/1000)\n",
    "                    time = datetime.datetime.utcfromtimestamp(int(raw[i][0]/1000)) #converting epoch from ms to seconds\n",
    "\n",
    "                    opn = raw[i][1]\n",
    "                    hgh = raw[i][2]\n",
    "                    low = raw[i][3]\n",
    "                    cls = raw[i][4]\n",
    "                    volume = raw[i][5]\n",
    "                    usd_volume = raw[i][7]\n",
    "                    trades = raw[i][8]\n",
    "\n",
    "                    lst.append([epoch, time, opn, hgh, low, cls, volume, usd_volume, trades])\n",
    "    return"
   ]
  },
  {
   "cell_type": "markdown",
   "id": "120ec15d-3aac-420f-8792-503cae4a7fed",
   "metadata": {},
   "source": [
    "## spot"
   ]
  },
  {
   "cell_type": "code",
   "execution_count": null,
   "id": "96d824e3-d438-43a6-9969-5b7fd430cfa2",
   "metadata": {},
   "outputs": [],
   "source": [
    "lst = []\n",
    "endtime = int(datetime.datetime.now().strftime('%s')) * 1000"
   ]
  },
  {
   "cell_type": "code",
   "execution_count": null,
   "id": "bebaae61-0d4f-4736-b403-a95106ff41db",
   "metadata": {},
   "outputs": [],
   "source": [
    "cont = True\n",
    "\n",
    "while cont:\n",
    "    query = f'https://api.binance.com/api/v3/klines?symbol={symbol}&interval={interval}&endTime={endtime}'\n",
    "    response = requests.get(query)\n",
    "    raw = response.json()\n",
    "    process_trading(raw)\n",
    "    endtime = raw[0][0]\n",
    "    if len(raw) < 500:\n",
    "        cont = False"
   ]
  },
  {
   "cell_type": "code",
   "execution_count": null,
   "id": "341a05a3-6083-4010-83bb-96fec73edda3",
   "metadata": {},
   "outputs": [],
   "source": [
    "df_trading = pd.DataFrame(lst, columns=['epoch', 'timestamp', 'open', 'high', 'low', 'close', 'volume', 'usd_volume', 'trades'])\n",
    "df = df_trading.copy()\n",
    "df.sort_values(by=['epoch'], ascending=True, inplace=True)\n",
    "df = df.drop_duplicates(subset=['epoch'], keep='first')\n",
    "df = df.reset_index(drop=True)\n",
    "df"
   ]
  },
  {
   "cell_type": "code",
   "execution_count": null,
   "id": "780b1a81-6ed3-4a0c-9633-7529c1ed6a3d",
   "metadata": {},
   "outputs": [],
   "source": [
    "#store in csv\n",
    "df.to_csv(f'spot_{currencies}_usdt_1h.csv', index=False)\n",
    "\n",
    "print('spot_', currencies, '.csv created')\n",
    "print(currencies, 'first row', df.iloc[0])\n",
    "print(currencies, 'last row', df.iloc[-1])\n",
    "print('')"
   ]
  },
  {
   "cell_type": "markdown",
   "id": "13290fab",
   "metadata": {},
   "source": [
    "## futures api"
   ]
  },
  {
   "cell_type": "code",
   "execution_count": null,
   "id": "2b18d694",
   "metadata": {},
   "outputs": [],
   "source": [
    "lst = []\n",
    "endtime = int(datetime.datetime.now().strftime('%s')) * 1000"
   ]
  },
  {
   "cell_type": "code",
   "execution_count": null,
   "id": "60bd149b",
   "metadata": {},
   "outputs": [],
   "source": [
    "cont = True\n",
    "\n",
    "while cont:\n",
    "    query = f'https://fapi.binance.com/fapi/v1/continuousKlines?pair={symbol}&contractType={contract}&interval={interval}&endTime={endtime}'\n",
    "    response = requests.get(query)\n",
    "    raw = response.json()\n",
    "    process_trading(raw)\n",
    "    endtime = raw[0][0]\n",
    "    if len(raw) < 500:\n",
    "        cont = False"
   ]
  },
  {
   "cell_type": "code",
   "execution_count": null,
   "id": "88971100",
   "metadata": {},
   "outputs": [],
   "source": [
    "df_trading = pd.DataFrame(lst, columns=['epoch', 'timestamp', 'open', 'high', 'low', 'close', 'volume', 'usd_volume', 'trades'])\n",
    "df = df_trading.copy()\n",
    "df.sort_values(by=['epoch'], ascending=True, inplace=True)\n",
    "df = df.drop_duplicates(subset=['epoch'], keep='first')\n",
    "df = df.reset_index(drop=True)"
   ]
  },
  {
   "cell_type": "code",
   "execution_count": null,
   "id": "ce293d1d",
   "metadata": {},
   "outputs": [],
   "source": [
    "#store in csv\n",
    "df.to_csv(f'perp_{currencies}_usdt_1h.csv', index=False)\n",
    "\n",
    "print('perp_', currencies, '.csv created')\n",
    "print(currencies, 'first row', df.iloc[0])\n",
    "print(currencies, 'last row', df.iloc[-1])\n",
    "print('')"
   ]
  },
  {
   "cell_type": "markdown",
   "id": "74c64710",
   "metadata": {},
   "source": [
    "## funding rate"
   ]
  },
  {
   "cell_type": "code",
   "execution_count": null,
   "id": "96ae6bff",
   "metadata": {},
   "outputs": [],
   "source": [
    "def process_funding(raw):\n",
    "#funding rate\n",
    "    for i in range(len(raw)):\n",
    "                    epoch = int(raw[i]['fundingTime']/1000)\n",
    "                    time = datetime.datetime.utcfromtimestamp(int(raw[i]['fundingTime']/1000)) #converting epoch from ms to seconds\n",
    "                    rate = raw[i]['fundingRate']\n",
    "\n",
    "                    lst.append([epoch, time, rate])\n",
    "    return"
   ]
  },
  {
   "cell_type": "code",
   "execution_count": null,
   "id": "80c018fc",
   "metadata": {},
   "outputs": [],
   "source": [
    "lst = []\n",
    "starttime = 1559347200000 #'2019-06-01 00:00:00'"
   ]
  },
  {
   "cell_type": "code",
   "execution_count": null,
   "id": "627e31a1",
   "metadata": {},
   "outputs": [],
   "source": [
    "cont = True\n",
    "\n",
    "while cont:\n",
    "    query = f'https://fapi.binance.com/fapi/v1/fundingRate?symbol={symbol}&startTime={starttime}&limit=500'\n",
    "    response = requests.get(query)\n",
    "    raw = response.json()\n",
    "    process_funding(raw)\n",
    "    starttime = raw[-1]['fundingTime']\n",
    "    if len(raw) < 500: \n",
    "        cont = False"
   ]
  },
  {
   "cell_type": "code",
   "execution_count": null,
   "id": "9135a457",
   "metadata": {},
   "outputs": [],
   "source": [
    "df_funding = pd.DataFrame(lst, columns=['epoch', 'timestamp', 'funding_rate'])\n",
    "df = df_funding.copy()\n",
    "df.sort_values(by=['epoch'], ascending=True, inplace=True)\n",
    "df = df.drop_duplicates(subset=['epoch'], keep='first')\n",
    "df = df.reset_index(drop=True)"
   ]
  },
  {
   "cell_type": "code",
   "execution_count": null,
   "id": "492bb6f6",
   "metadata": {},
   "outputs": [],
   "source": [
    "#store in csv\n",
    "df.to_csv(f'rate_{currencies}_usdt.csv', index=False)\n",
    "\n",
    "print('funding_rate_', currencies, '.csv created')\n",
    "print(currencies, 'first row', df.iloc[0])\n",
    "print(currencies, 'last row', df.iloc[-1])\n",
    "print('')"
   ]
  }
 ],
 "metadata": {
  "kernelspec": {
   "display_name": "Python 3 (ipykernel)",
   "language": "python",
   "name": "python3"
  },
  "language_info": {
   "codemirror_mode": {
    "name": "ipython",
    "version": 3
   },
   "file_extension": ".py",
   "mimetype": "text/x-python",
   "name": "python",
   "nbconvert_exporter": "python",
   "pygments_lexer": "ipython3",
   "version": "3.8.13"
  }
 },
 "nbformat": 4,
 "nbformat_minor": 5
}
